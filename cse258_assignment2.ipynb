{
  "cells": [
    {
      "cell_type": "code",
      "source": [
        "!pip install wandb\n",
        "!wget https://datarepo.eng.ucsd.edu/mcauley_group/data/renttherunway/renttherunway_final_data.json.gz"
      ],
      "metadata": {
        "colab": {
          "base_uri": "https://localhost:8080/"
        },
        "id": "H8KKVnfoT058",
        "outputId": "dcda783d-8c67-49a0-8f68-58e787928896"
      },
      "id": "H8KKVnfoT058",
      "execution_count": 1,
      "outputs": [
        {
          "output_type": "stream",
          "name": "stdout",
          "text": [
            "Collecting wandb\n",
            "  Downloading wandb-0.16.1-py3-none-any.whl (2.1 MB)\n",
            "\u001b[2K     \u001b[90m━━━━━━━━━━━━━━━━━━━━━━━━━━━━━━━━━━━━━━━━\u001b[0m \u001b[32m2.1/2.1 MB\u001b[0m \u001b[31m14.2 MB/s\u001b[0m eta \u001b[36m0:00:00\u001b[0m\n",
            "\u001b[?25hRequirement already satisfied: Click!=8.0.0,>=7.1 in /usr/local/lib/python3.10/dist-packages (from wandb) (8.1.7)\n",
            "Collecting GitPython!=3.1.29,>=1.0.0 (from wandb)\n",
            "  Downloading GitPython-3.1.40-py3-none-any.whl (190 kB)\n",
            "\u001b[2K     \u001b[90m━━━━━━━━━━━━━━━━━━━━━━━━━━━━━━━━━━━━━━━━\u001b[0m \u001b[32m190.6/190.6 kB\u001b[0m \u001b[31m13.2 MB/s\u001b[0m eta \u001b[36m0:00:00\u001b[0m\n",
            "\u001b[?25hRequirement already satisfied: requests<3,>=2.0.0 in /usr/local/lib/python3.10/dist-packages (from wandb) (2.31.0)\n",
            "Requirement already satisfied: psutil>=5.0.0 in /usr/local/lib/python3.10/dist-packages (from wandb) (5.9.5)\n",
            "Collecting sentry-sdk>=1.0.0 (from wandb)\n",
            "  Downloading sentry_sdk-1.38.0-py2.py3-none-any.whl (252 kB)\n",
            "\u001b[2K     \u001b[90m━━━━━━━━━━━━━━━━━━━━━━━━━━━━━━━━━━━━━━━━\u001b[0m \u001b[32m252.8/252.8 kB\u001b[0m \u001b[31m19.0 MB/s\u001b[0m eta \u001b[36m0:00:00\u001b[0m\n",
            "\u001b[?25hCollecting docker-pycreds>=0.4.0 (from wandb)\n",
            "  Downloading docker_pycreds-0.4.0-py2.py3-none-any.whl (9.0 kB)\n",
            "Requirement already satisfied: PyYAML in /usr/local/lib/python3.10/dist-packages (from wandb) (6.0.1)\n",
            "Collecting setproctitle (from wandb)\n",
            "  Downloading setproctitle-1.3.3-cp310-cp310-manylinux_2_5_x86_64.manylinux1_x86_64.manylinux_2_17_x86_64.manylinux2014_x86_64.whl (30 kB)\n",
            "Requirement already satisfied: setuptools in /usr/local/lib/python3.10/dist-packages (from wandb) (67.7.2)\n",
            "Requirement already satisfied: appdirs>=1.4.3 in /usr/local/lib/python3.10/dist-packages (from wandb) (1.4.4)\n",
            "Requirement already satisfied: protobuf!=4.21.0,<5,>=3.19.0 in /usr/local/lib/python3.10/dist-packages (from wandb) (3.20.3)\n",
            "Requirement already satisfied: six>=1.4.0 in /usr/local/lib/python3.10/dist-packages (from docker-pycreds>=0.4.0->wandb) (1.16.0)\n",
            "Collecting gitdb<5,>=4.0.1 (from GitPython!=3.1.29,>=1.0.0->wandb)\n",
            "  Downloading gitdb-4.0.11-py3-none-any.whl (62 kB)\n",
            "\u001b[2K     \u001b[90m━━━━━━━━━━━━━━━━━━━━━━━━━━━━━━━━━━━━━━━━\u001b[0m \u001b[32m62.7/62.7 kB\u001b[0m \u001b[31m7.3 MB/s\u001b[0m eta \u001b[36m0:00:00\u001b[0m\n",
            "\u001b[?25hRequirement already satisfied: charset-normalizer<4,>=2 in /usr/local/lib/python3.10/dist-packages (from requests<3,>=2.0.0->wandb) (3.3.2)\n",
            "Requirement already satisfied: idna<4,>=2.5 in /usr/local/lib/python3.10/dist-packages (from requests<3,>=2.0.0->wandb) (3.6)\n",
            "Requirement already satisfied: urllib3<3,>=1.21.1 in /usr/local/lib/python3.10/dist-packages (from requests<3,>=2.0.0->wandb) (2.0.7)\n",
            "Requirement already satisfied: certifi>=2017.4.17 in /usr/local/lib/python3.10/dist-packages (from requests<3,>=2.0.0->wandb) (2023.11.17)\n",
            "Collecting smmap<6,>=3.0.1 (from gitdb<5,>=4.0.1->GitPython!=3.1.29,>=1.0.0->wandb)\n",
            "  Downloading smmap-5.0.1-py3-none-any.whl (24 kB)\n",
            "Installing collected packages: smmap, setproctitle, sentry-sdk, docker-pycreds, gitdb, GitPython, wandb\n",
            "Successfully installed GitPython-3.1.40 docker-pycreds-0.4.0 gitdb-4.0.11 sentry-sdk-1.38.0 setproctitle-1.3.3 smmap-5.0.1 wandb-0.16.1\n",
            "--2023-12-06 00:02:36--  https://datarepo.eng.ucsd.edu/mcauley_group/data/renttherunway/renttherunway_final_data.json.gz\n",
            "Resolving datarepo.eng.ucsd.edu (datarepo.eng.ucsd.edu)... 132.239.8.30\n",
            "Connecting to datarepo.eng.ucsd.edu (datarepo.eng.ucsd.edu)|132.239.8.30|:443... connected.\n",
            "HTTP request sent, awaiting response... 200 OK\n",
            "Length: 31493535 (30M) [application/x-gzip]\n",
            "Saving to: ‘renttherunway_final_data.json.gz’\n",
            "\n",
            "renttherunway_final 100%[===================>]  30.03M  9.87MB/s    in 3.0s    \n",
            "\n",
            "2023-12-06 00:02:40 (9.87 MB/s) - ‘renttherunway_final_data.json.gz’ saved [31493535/31493535]\n",
            "\n"
          ]
        }
      ]
    },
    {
      "cell_type": "code",
      "execution_count": 2,
      "id": "c46b2e18",
      "metadata": {
        "id": "c46b2e18"
      },
      "outputs": [],
      "source": [
        "import gzip\n",
        "import math\n",
        "import numpy\n",
        "import random\n",
        "import sklearn\n",
        "import string\n",
        "from collections import defaultdict\n",
        "from nltk.stem.porter import *\n",
        "from sklearn import linear_model\n",
        "from gensim.models import Word2Vec\n",
        "import dateutil\n",
        "from scipy.sparse import lil_matrix, hstack, vstack\n",
        "import numpy as np\n",
        "import json\n",
        "import tqdm\n",
        "\n",
        "from collections import Counter\n",
        "import matplotlib.pyplot as plt\n",
        "\n",
        "import torch\n",
        "import torch.nn as nn\n",
        "import torch.nn.functional as F\n",
        "from torch.utils.data import Dataset, DataLoader\n",
        "from torch import optim\n",
        "import torch.nn.init as init\n",
        "\n",
        "import wandb\n",
        "\n",
        "from sklearn.metrics import mean_squared_error"
      ]
    },
    {
      "cell_type": "code",
      "execution_count": 3,
      "id": "491c5749",
      "metadata": {
        "id": "491c5749"
      },
      "outputs": [],
      "source": [
        "dataset = []\n",
        "\n",
        "f = gzip.open(\"renttherunway_final_data.json.gz\")\n",
        "for l in f:\n",
        "    d = json.loads(l)\n",
        "    dataset.append(d)\n",
        "\n",
        "f.close()"
      ]
    },
    {
      "cell_type": "code",
      "execution_count": 4,
      "id": "9515818f",
      "metadata": {
        "id": "9515818f",
        "colab": {
          "base_uri": "https://localhost:8080/"
        },
        "outputId": "4c444239-01d2-470d-b93c-8065fc54f861"
      },
      "outputs": [
        {
          "output_type": "stream",
          "name": "stdout",
          "text": [
            "0.6803383504939804\n",
            "0.05829059829059829\n",
            "0.7377949975070633\n"
          ]
        }
      ],
      "source": [
        "# Data Exploration\n",
        "userCount = defaultdict(int)\n",
        "itemCount = defaultdict(int)\n",
        "fit_count = 0\n",
        "\n",
        "for d in dataset:\n",
        "    item_id = d['item_id']\n",
        "    user_id = d['user_id']\n",
        "\n",
        "    userCount[user_id] += 1\n",
        "    itemCount[item_id] += 1\n",
        "\n",
        "    if d['fit'] == \"fit\":\n",
        "        fit_count += 1\n",
        "\n",
        "unique_user = 0\n",
        "unique_item = 0\n",
        "\n",
        "for user, counts in userCount.items():\n",
        "    if counts == 1:\n",
        "        unique_user += 1\n",
        "\n",
        "for item, counts in itemCount.items():\n",
        "    if counts == 1:\n",
        "        unique_item += 1\n",
        "\n",
        "print(unique_user / len(userCount))\n",
        "print(unique_item / len(itemCount))\n",
        "print(fit_count / len(dataset))"
      ]
    },
    {
      "cell_type": "code",
      "execution_count": 5,
      "id": "97b307af",
      "metadata": {
        "colab": {
          "base_uri": "https://localhost:8080/"
        },
        "id": "97b307af",
        "outputId": "b6f751ae-3257-4cc2-dd4f-d3780373448e"
      },
      "outputs": [
        {
          "output_type": "execute_result",
          "data": {
            "text/plain": [
              "192544"
            ]
          },
          "metadata": {},
          "execution_count": 5
        }
      ],
      "source": [
        "len(dataset)"
      ]
    },
    {
      "cell_type": "code",
      "execution_count": 6,
      "id": "6bc9c8c5",
      "metadata": {
        "id": "6bc9c8c5"
      },
      "outputs": [],
      "source": [
        "fits = [d[\"fit\"] for d in dataset]"
      ]
    },
    {
      "cell_type": "code",
      "execution_count": 7,
      "id": "8a9685c1",
      "metadata": {
        "id": "8a9685c1"
      },
      "outputs": [],
      "source": [
        "def plt_distribution(items):\n",
        "    items_list = [d.get(items) if items in d and d[items] else \"UNK\" for d in dataset]\n",
        "    string_counts = Counter(items_list)\n",
        "\n",
        "    # Prepare data for plotting\n",
        "    labels, values = zip(*string_counts.items())\n",
        "\n",
        "    # Create a bar plot\n",
        "    plt.bar(labels, values)\n",
        "\n",
        "    # Adding titles and labels\n",
        "    plt.title(\"String Occurrences\")\n",
        "    plt.xlabel(\"Strings\")\n",
        "    plt.ylabel(\"Occurrences\")\n",
        "\n",
        "    # Show the plot\n",
        "    plt.show()"
      ]
    },
    {
      "cell_type": "code",
      "execution_count": 8,
      "id": "0895c83d",
      "metadata": {
        "colab": {
          "base_uri": "https://localhost:8080/",
          "height": 472
        },
        "id": "0895c83d",
        "outputId": "784782c2-934d-4f22-c1b0-6a8f933ed6f1"
      },
      "outputs": [
        {
          "output_type": "display_data",
          "data": {
            "text/plain": [
              "<Figure size 640x480 with 1 Axes>"
            ],
            "image/png": "[encoded data removed]"
          },
          "metadata": {}
        }
      ],
      "source": [
        "plt_distribution(\"fit\")"
      ]
    },
    {
      "cell_type": "code",
      "execution_count": 9,
      "id": "86bd178a",
      "metadata": {
        "colab": {
          "base_uri": "https://localhost:8080/",
          "height": 472
        },
        "id": "86bd178a",
        "outputId": "62b1e2e5-ab1b-433f-d4c2-bcdcca64fa8f"
      },
      "outputs": [
        {
          "output_type": "display_data",
          "data": {
            "text/plain": [
              "<Figure size 640x480 with 1 Axes>"
            ],
            "image/png": "[encoded data removed]"
          },
          "metadata": {}
        }
      ],
      "source": [
        "plt_distribution(\"rating\")"
      ]
    },
    {
      "cell_type": "code",
      "execution_count": 10,
      "id": "aaa064b1",
      "metadata": {
        "colab": {
          "base_uri": "https://localhost:8080/",
          "height": 472
        },
        "id": "aaa064b1",
        "outputId": "aade0946-90ce-4dcf-c011-c2bf69584871"
      },
      "outputs": [
        {
          "output_type": "display_data",
          "data": {
            "text/plain": [
              "<Figure size 640x480 with 1 Axes>"
            ],
            "image/png": "[encoded data removed]"
          },
          "metadata": {}
        }
      ],
      "source": [
        "plt_distribution(\"body type\")"
      ]
    },
    {
      "cell_type": "code",
      "execution_count": 11,
      "id": "feb073af",
      "metadata": {
        "id": "feb073af"
      },
      "outputs": [],
      "source": [
        "def sparsity_plot(items):\n",
        "    items_list = [d[items] if d[items] else \"UNK\" for d in dataset]\n",
        "    string_counts = Counter(items_list)\n",
        "    cnts_list = list(string_counts.values())\n",
        "    cnts_counts = Counter(cnts_list)\n",
        "\n",
        "    x = list(cnts_counts.keys())\n",
        "    y = list(cnts_counts.values())\n",
        "\n",
        "    x, y = zip(*sorted(zip(x, y)))\n",
        "\n",
        "    plt.bar(x, y)\n",
        "\n",
        "    plt.title(\"Number Distribution\")\n",
        "    plt.xlabel(\"Number\")\n",
        "    plt.ylabel(\"Count\")\n",
        "\n",
        "    plt.show()"
      ]
    },
    {
      "cell_type": "code",
      "execution_count": 12,
      "id": "deb9ca3e",
      "metadata": {
        "colab": {
          "base_uri": "https://localhost:8080/",
          "height": 472
        },
        "id": "deb9ca3e",
        "outputId": "bdf77147-bb90-4ace-988b-43a81575c92f"
      },
      "outputs": [
        {
          "output_type": "display_data",
          "data": {
            "text/plain": [
              "<Figure size 640x480 with 1 Axes>"
            ],
            "image/png": "[encoded data removed]"
          },
          "metadata": {}
        }
      ],
      "source": [
        "sparsity_plot(\"user_id\")"
      ]
    },
    {
      "cell_type": "code",
      "execution_count": 13,
      "id": "a2b20e11",
      "metadata": {
        "colab": {
          "base_uri": "https://localhost:8080/",
          "height": 472
        },
        "id": "a2b20e11",
        "outputId": "72612a24-48a4-4937-b794-0fed41177d3c"
      },
      "outputs": [
        {
          "output_type": "display_data",
          "data": {
            "text/plain": [
              "<Figure size 640x480 with 1 Axes>"
            ],
            "image/png": "[encoded data removed]"
          },
          "metadata": {}
        }
      ],
      "source": [
        "sparsity_plot(\"item_id\")"
      ]
    },
    {
      "cell_type": "code",
      "execution_count": 14,
      "id": "6aeeae66",
      "metadata": {
        "id": "6aeeae66"
      },
      "outputs": [],
      "source": [
        "random.seed(42)\n",
        "random.shuffle(dataset)\n",
        "\n",
        "dataNum = len(dataset)\n",
        "trainNum = int(dataNum * 0.6)\n",
        "validNum = int(dataNum * 0.2)\n",
        "\n",
        "actionsTrain = dataset[:trainNum]\n",
        "actionsValid = dataset[trainNum: trainNum + validNum]\n",
        "actionsTest = dataset[trainNum + validNum:]"
      ]
    },
    {
      "cell_type": "code",
      "execution_count": 15,
      "id": "cc043a69",
      "metadata": {
        "colab": {
          "base_uri": "https://localhost:8080/"
        },
        "id": "cc043a69",
        "outputId": "e263ced1-caf7-419d-c1b8-f8b9747f4636"
      },
      "outputs": [
        {
          "output_type": "execute_result",
          "data": {
            "text/plain": [
              "{'fit': 'large',\n",
              " 'user_id': '657330',\n",
              " 'bust size': '34d',\n",
              " 'item_id': '2337484',\n",
              " 'weight': '140lbs',\n",
              " 'rating': '10',\n",
              " 'rented for': 'wedding',\n",
              " 'review_text': \"I absolutely loved this skirt.  The leather is so buttery soft and the hem of it is a clean, raw cut, which I think makes it much classier and sleek.  It fit perfectly on my hips and but but gapped a little in the waist (but I do have a small waist for the size of my hips/butt.) . The metal detail is silver but I wore gold jewelry with it and didn't think it clashed.  So sad to give it back!\",\n",
              " 'body type': 'hourglass',\n",
              " 'review_summary': 'Trendy Twist on a Black Pencil Skirt',\n",
              " 'category': 'skirt',\n",
              " 'height': '5\\' 8\"',\n",
              " 'size': 8,\n",
              " 'age': '29',\n",
              " 'review_date': 'April 4, 2017'}"
            ]
          },
          "metadata": {},
          "execution_count": 15
        }
      ],
      "source": [
        "actionsTrain[0]"
      ]
    },
    {
      "cell_type": "code",
      "execution_count": 16,
      "id": "21841f8c",
      "metadata": {
        "id": "21841f8c"
      },
      "outputs": [],
      "source": [
        "itemsPerUser = defaultdict(list)\n",
        "usersPerItem = defaultdict(list)\n",
        "categorySet = set()\n",
        "bodyShapeSet = set()\n",
        "bustSizeSet = set()\n",
        "\n",
        "item_category = {}\n",
        "global_average = 0.0\n",
        "\n",
        "fit_dict = {\n",
        "    'small': -1,\n",
        "    'fit': 0,\n",
        "    'large': 1,\n",
        "}\n",
        "\n",
        "# Preprocess\n",
        "for action in actionsTrain:\n",
        "    item_id = action['item_id']\n",
        "    user_id = action['user_id']\n",
        "\n",
        "    itemsPerUser[user_id].append(item_id)\n",
        "    usersPerItem[item_id].append(user_id)\n",
        "\n",
        "    fit = action['fit']\n",
        "    global_average += fit_dict[fit]\n",
        "\n",
        "    item_category[item_id] = action[\"category\"]\n",
        "\n",
        "    categorySet.add(action[\"category\"])\n",
        "    bodyShapeSet.add(action.get(\"body type\", \"UNK\"))\n",
        "    bustSizeSet.add(action.get(\"bust size\"))\n",
        "\n",
        "bodyShapeDict = dict(zip(list(bodyShapeSet), list(range(len(bodyShapeSet)))))\n",
        "categoryDict = dict(zip(list(categorySet), list(range(len(categorySet)))))\n",
        "\n",
        "global_average = global_average / len(actionsTrain)"
      ]
    },
    {
      "cell_type": "code",
      "execution_count": 17,
      "id": "7229f4bc",
      "metadata": {
        "id": "7229f4bc"
      },
      "outputs": [],
      "source": [
        "maxUserNum = 5000\n",
        "maxItemNum = 8000\n",
        "\n",
        "userCount = defaultdict(int)\n",
        "itemCount = defaultdict(int)\n",
        "\n",
        "for user in itemsPerUser:\n",
        "    userCount[user] = len(itemsPerUser[user])\n",
        "\n",
        "for item in usersPerItem:\n",
        "    itemCount[item] = len(usersPerItem[item])\n",
        "\n",
        "\n",
        "userCounts = list(userCount.items())\n",
        "sortedUser = sorted(userCounts, reverse=True, key=lambda x:x[1])[:maxUserNum]\n",
        "userIDDict = dict(zip([x[0] for x in sortedUser], list(range(len(sortedUser)))))\n",
        "topUsers = set([x[0] for x in sortedUser][:maxUserNum])\n",
        "\n",
        "itemCounts = list(itemCount.items())\n",
        "sortedItem = sorted(itemCounts, reverse=True, key=lambda x:x[1])[:maxItemNum]\n",
        "itemIDDict = dict(zip([x[0] for x in sortedItem], list(range(len(sortedItem)))))\n",
        "topItems = set([x[0] for x in sortedItem][:maxItemNum])"
      ]
    },
    {
      "cell_type": "code",
      "source": [
        "len(userIDDict)"
      ],
      "metadata": {
        "colab": {
          "base_uri": "https://localhost:8080/"
        },
        "id": "QW0kOMSgl1nq",
        "outputId": "7a8086ba-d30c-4983-c93f-d8f83557b21a"
      },
      "id": "QW0kOMSgl1nq",
      "execution_count": 18,
      "outputs": [
        {
          "output_type": "execute_result",
          "data": {
            "text/plain": [
              "5000"
            ]
          },
          "metadata": {},
          "execution_count": 18
        }
      ]
    },
    {
      "cell_type": "code",
      "execution_count": 18,
      "id": "f5f26a3b",
      "metadata": {
        "id": "f5f26a3b"
      },
      "outputs": [],
      "source": [
        "# utils functions\n",
        "def height2inches(height):\n",
        "    feet = height.split()[0][:-1]\n",
        "    inch = height.split()[1][:-1]\n",
        "    return int(feet) * 12 + int(inch)\n",
        "\n",
        "def id2onehot(name, indexDict):\n",
        "    feature = lil_matrix((1, len(indexDict)))\n",
        "    if name in indexDict:\n",
        "        feature[0, indexDict[name]] = 1\n",
        "\n",
        "    return feature"
      ]
    },
    {
      "cell_type": "code",
      "execution_count": 20,
      "id": "40e4140d",
      "metadata": {
        "scrolled": true,
        "colab": {
          "base_uri": "https://localhost:8080/"
        },
        "id": "40e4140d",
        "outputId": "eac551da-cb86-4421-c2f9-7c847cbfbcec"
      },
      "outputs": [
        {
          "output_type": "stream",
          "name": "stderr",
          "text": [
            "100%|██████████| 115526/115526 [02:28<00:00, 778.57it/s] \n",
            "100%|██████████| 38508/38508 [00:45<00:00, 846.85it/s]\n",
            "100%|██████████| 38510/38510 [00:41<00:00, 937.89it/s] \n"
          ]
        }
      ],
      "source": [
        "# Dense Feature (without interacrtion)\n",
        "def processX(actions):\n",
        "    datasize = len(actions)\n",
        "\n",
        "    features = []\n",
        "\n",
        "    for action in tqdm.tqdm(actions):\n",
        "        feature_dict = {}\n",
        "\n",
        "        # ID one-hot feature\n",
        "        item_id = action['item_id']\n",
        "        user_id = action['user_id']\n",
        "\n",
        "        item_id_one_hot = id2onehot(item_id, itemIDDict)\n",
        "        user_id_one_hot = id2onehot(user_id, userIDDict)\n",
        "\n",
        "        # Category one-hot feature\n",
        "        category = action['category']\n",
        "        category_one_hot = id2onehot(category, categoryDict)\n",
        "\n",
        "        # body type one-hot feature\n",
        "        body_type = action.get('body type', 'UNK')\n",
        "        body_type_one_hot = id2onehot(body_type, bodyShapeDict)\n",
        "\n",
        "        size = action.get('size', -1)\n",
        "        age = int(action.get('age', -1))\n",
        "        height = height2inches(action.get('height', '0\\' 0\"'))\n",
        "        bust_size = (action.get('bust size'))\n",
        "        weight = int(action.get('weight', '0lbs')[:-3])\n",
        "\n",
        "        dense_feature = numpy.array([size, age, height, weight], dtype=numpy.float32)\n",
        "        feature_vec = hstack([item_id_one_hot, user_id_one_hot, category_one_hot, dense_feature])\n",
        "        features.append(feature_vec)\n",
        "\n",
        "    return vstack(features)\n",
        "\n",
        "def processY(actions):\n",
        "    datasize = len(actions)\n",
        "\n",
        "    labels = [fit_dict[a['fit']] for a in actions]\n",
        "\n",
        "    return numpy.array(labels)\n",
        "\n",
        "trainX = processX(actionsTrain)\n",
        "trainY = processY(actionsTrain)\n",
        "validX = processX(actionsValid)\n",
        "validY = processY(actionsValid)\n",
        "testX = processX(actionsTest)\n",
        "testY = processY(actionsTest)"
      ]
    },
    {
      "cell_type": "code",
      "execution_count": 21,
      "id": "383979d4",
      "metadata": {
        "colab": {
          "base_uri": "https://localhost:8080/"
        },
        "id": "383979d4",
        "outputId": "7c43a9ba-c779-4a3b-942d-39fe6651db6a"
      },
      "outputs": [
        {
          "output_type": "execute_result",
          "data": {
            "text/plain": [
              "(115526, 10700)"
            ]
          },
          "metadata": {},
          "execution_count": 21
        }
      ],
      "source": [
        "trainX.shape"
      ]
    },
    {
      "cell_type": "code",
      "execution_count": 22,
      "id": "5f5a1506",
      "metadata": {
        "colab": {
          "base_uri": "https://localhost:8080/",
          "height": 51
        },
        "id": "5f5a1506",
        "outputId": "65763aaf-1aea-4d1d-830d-81ffff2ef07b"
      },
      "outputs": [
        {
          "output_type": "execute_result",
          "data": {
            "text/plain": [
              "LinearRegression()"
            ],
            "text/html": [
              "<style>#sk-container-id-1 {color: black;background-color: white;}#sk-container-id-1 pre{padding: 0;}#sk-container-id-1 div.sk-toggleable {background-color: white;}#sk-container-id-1 label.sk-toggleable__label {cursor: pointer;display: block;width: 100%;margin-bottom: 0;padding: 0.3em;box-sizing: border-box;text-align: center;}#sk-container-id-1 label.sk-toggleable__label-arrow:before {content: \"▸\";float: left;margin-right: 0.25em;color: #696969;}#sk-container-id-1 label.sk-toggleable__label-arrow:hover:before {color: black;}#sk-container-id-1 div.sk-estimator:hover label.sk-toggleable__label-arrow:before {color: black;}#sk-container-id-1 div.sk-toggleable__content {max-height: 0;max-width: 0;overflow: hidden;text-align: left;background-color: #f0f8ff;}#sk-container-id-1 div.sk-toggleable__content pre {margin: 0.2em;color: black;border-radius: 0.25em;background-color: #f0f8ff;}#sk-container-id-1 input.sk-toggleable__control:checked~div.sk-toggleable__content {max-height: 200px;max-width: 100%;overflow: auto;}#sk-container-id-1 input.sk-toggleable__control:checked~label.sk-toggleable__label-arrow:before {content: \"▾\";}#sk-container-id-1 div.sk-estimator input.sk-toggleable__control:checked~label.sk-toggleable__label {background-color: #d4ebff;}#sk-container-id-1 div.sk-label input.sk-toggleable__control:checked~label.sk-toggleable__label {background-color: #d4ebff;}#sk-container-id-1 input.sk-hidden--visually {border: 0;clip: rect(1px 1px 1px 1px);clip: rect(1px, 1px, 1px, 1px);height: 1px;margin: -1px;overflow: hidden;padding: 0;position: absolute;width: 1px;}#sk-container-id-1 div.sk-estimator {font-family: monospace;background-color: #f0f8ff;border: 1px dotted black;border-radius: 0.25em;box-sizing: border-box;margin-bottom: 0.5em;}#sk-container-id-1 div.sk-estimator:hover {background-color: #d4ebff;}#sk-container-id-1 div.sk-parallel-item::after {content: \"\";width: 100%;border-bottom: 1px solid gray;flex-grow: 1;}#sk-container-id-1 div.sk-label:hover label.sk-toggleable__label {background-color: #d4ebff;}#sk-container-id-1 div.sk-serial::before {content: \"\";position: absolute;border-left: 1px solid gray;box-sizing: border-box;top: 0;bottom: 0;left: 50%;z-index: 0;}#sk-container-id-1 div.sk-serial {display: flex;flex-direction: column;align-items: center;background-color: white;padding-right: 0.2em;padding-left: 0.2em;position: relative;}#sk-container-id-1 div.sk-item {position: relative;z-index: 1;}#sk-container-id-1 div.sk-parallel {display: flex;align-items: stretch;justify-content: center;background-color: white;position: relative;}#sk-container-id-1 div.sk-item::before, #sk-container-id-1 div.sk-parallel-item::before {content: \"\";position: absolute;border-left: 1px solid gray;box-sizing: border-box;top: 0;bottom: 0;left: 50%;z-index: -1;}#sk-container-id-1 div.sk-parallel-item {display: flex;flex-direction: column;z-index: 1;position: relative;background-color: white;}#sk-container-id-1 div.sk-parallel-item:first-child::after {align-self: flex-end;width: 50%;}#sk-container-id-1 div.sk-parallel-item:last-child::after {align-self: flex-start;width: 50%;}#sk-container-id-1 div.sk-parallel-item:only-child::after {width: 0;}#sk-container-id-1 div.sk-dashed-wrapped {border: 1px dashed gray;margin: 0 0.4em 0.5em 0.4em;box-sizing: border-box;padding-bottom: 0.4em;background-color: white;}#sk-container-id-1 div.sk-label label {font-family: monospace;font-weight: bold;display: inline-block;line-height: 1.2em;}#sk-container-id-1 div.sk-label-container {text-align: center;}#sk-container-id-1 div.sk-container {/* jupyter's `normalize.less` sets `[hidden] { display: none; }` but bootstrap.min.css set `[hidden] { display: none !important; }` so we also need the `!important` here to be able to override the default hidden behavior on the sphinx rendered scikit-learn.org. See: https://github.com/scikit-learn/scikit-learn/issues/21755 */display: inline-block !important;position: relative;}#sk-container-id-1 div.sk-text-repr-fallback {display: none;}</style><div id=\"sk-container-id-1\" class=\"sk-top-container\"><div class=\"sk-text-repr-fallback\"><pre>LinearRegression()</pre><b>In a Jupyter environment, please rerun this cell to show the HTML representation or trust the notebook. <br />On GitHub, the HTML representation is unable to render, please try loading this page with nbviewer.org.</b></div><div class=\"sk-container\" hidden><div class=\"sk-item\"><div class=\"sk-estimator sk-toggleable\"><input class=\"sk-toggleable__control sk-hidden--visually\" id=\"sk-estimator-id-1\" type=\"checkbox\" checked><label for=\"sk-estimator-id-1\" class=\"sk-toggleable__label sk-toggleable__label-arrow\">LinearRegression</label><div class=\"sk-toggleable__content\"><pre>LinearRegression()</pre></div></div></div></div></div>"
            ]
          },
          "metadata": {},
          "execution_count": 22
        }
      ],
      "source": [
        "# logistic regression (baseline 1)\n",
        "from sklearn.linear_model import LinearRegression\n",
        "\n",
        "model = LinearRegression()\n",
        "model.fit(trainX, trainY)"
      ]
    },
    {
      "cell_type": "code",
      "execution_count": 23,
      "id": "5ea0a681",
      "metadata": {
        "id": "5ea0a681"
      },
      "outputs": [],
      "source": [
        "validPred = model.predict(validX)"
      ]
    },
    {
      "cell_type": "code",
      "execution_count": 26,
      "id": "358de3da",
      "metadata": {
        "id": "358de3da"
      },
      "outputs": [],
      "source": [
        "def decideThreshold(predictions, labels):\n",
        "    best_thresholds = None\n",
        "    best_score = 0\n",
        "\n",
        "    for thres1 in np.linspace(-1, 0, 21):\n",
        "        for thres2 in np.linspace(0, 1, 21):\n",
        "            predicted_labels = np.zeros_like(predictions)\n",
        "            predicted_labels[predictions < thres1] = -1\n",
        "            predicted_labels[predictions > thres2] = 1\n",
        "            score = np.mean(predicted_labels == labels)\n",
        "\n",
        "            if score > best_score:\n",
        "                best_score = score\n",
        "                best_thresholds = (thres1, thres2)\n",
        "\n",
        "    return best_thresholds, best_score\n",
        "\n",
        "def predict(predictions, labels, thres):\n",
        "    predicted_labels = np.zeros_like(predictions)\n",
        "    predicted_labels[predictions < thres[0]] = -1\n",
        "    predicted_labels[predictions > thres[1]] = 1\n",
        "    score = np.mean(predicted_labels == labels)\n",
        "\n",
        "    return score, predicted_labels\n",
        "\n",
        "def calculate_accuracy(labels, preds):\n",
        "    accuracies = {}\n",
        "    for label_val in [1, -1, 0]:\n",
        "        total = sum([1 for x in labels if x == label_val])\n",
        "        if total > 0:\n",
        "            correct = sum([1 for x, y in zip(labels, preds) if x == y and x == label_val])\n",
        "            accuracies[label_val] = correct / total\n",
        "        else:\n",
        "            accuracies[label_val] = None  # 避免除以零\n",
        "    return accuracies"
      ]
    },
    {
      "cell_type": "code",
      "execution_count": 27,
      "id": "e0d364a2",
      "metadata": {
        "colab": {
          "base_uri": "https://localhost:8080/"
        },
        "id": "e0d364a2",
        "outputId": "f6d36898-5a64-49dc-817d-beb5259a8c36"
      },
      "outputs": [
        {
          "output_type": "stream",
          "name": "stdout",
          "text": [
            "0.749623474422228\n",
            "(-0.6, 0.55)\n"
          ]
        }
      ],
      "source": [
        "thres, best_score = decideThreshold(validPred, validY)\n",
        "testPred = model.predict(testX)\n",
        "testScore, predLabels = predict(testPred, testY, thres)\n",
        "print(testScore)\n",
        "print(thres)"
      ]
    },
    {
      "cell_type": "code",
      "execution_count": 29,
      "id": "61c93c00",
      "metadata": {
        "colab": {
          "base_uri": "https://localhost:8080/"
        },
        "id": "61c93c00",
        "outputId": "cd666e91-6436-4d37-b20e-5e9afdc7c499"
      },
      "outputs": [
        {
          "output_type": "execute_result",
          "data": {
            "text/plain": [
              "Counter({0.0: 36087, -1.0: 1100, 1.0: 1323})"
            ]
          },
          "metadata": {},
          "execution_count": 29
        }
      ],
      "source": [
        "Counter(predLabels)"
      ]
    },
    {
      "cell_type": "code",
      "execution_count": 30,
      "id": "a47731b6",
      "metadata": {
        "colab": {
          "base_uri": "https://localhost:8080/"
        },
        "id": "a47731b6",
        "outputId": "538e2990-9de0-4def-c5ae-76c3e80e6cf3"
      },
      "outputs": [
        {
          "output_type": "execute_result",
          "data": {
            "text/plain": [
              "Counter({0: 28434, -1: 5197, 1: 4879})"
            ]
          },
          "metadata": {},
          "execution_count": 30
        }
      ],
      "source": [
        "Counter(testY)"
      ]
    },
    {
      "cell_type": "code",
      "source": [
        "print(calculate_accuracy(testY, predLabels))\n",
        "print(mean_squared_error(testY, testPred))"
      ],
      "metadata": {
        "colab": {
          "base_uri": "https://localhost:8080/"
        },
        "id": "Z9oRZrrZ08-G",
        "outputId": "55fd3014-71e2-4afd-d26e-844d3a070a8e"
      },
      "id": "Z9oRZrrZ08-G",
      "execution_count": 46,
      "outputs": [
        {
          "output_type": "stream",
          "name": "stdout",
          "text": [
            "{1: 0.0313588850174216, -1: 0.03386569174523764, 0: 0.9344798480692129}\n",
            "0.21358776380395814\n"
          ]
        }
      ]
    },
    {
      "cell_type": "code",
      "execution_count": 19,
      "id": "b32cdf7f",
      "metadata": {
        "colab": {
          "base_uri": "https://localhost:8080/"
        },
        "id": "b32cdf7f",
        "outputId": "ddf75274-b3de-42fb-863b-8453b2a7a5f8"
      },
      "outputs": [
        {
          "output_type": "stream",
          "name": "stderr",
          "text": [
            "100%|██████████| 115526/115526 [00:20<00:00, 5678.72it/s]\n",
            "100%|██████████| 38508/38508 [00:03<00:00, 12636.01it/s]\n",
            "100%|██████████| 38510/38510 [00:02<00:00, 13138.64it/s]\n"
          ]
        }
      ],
      "source": [
        "# Feature for torch network\n",
        "def processNNX(actions):\n",
        "    datasize = len(actions)\n",
        "\n",
        "    features = []\n",
        "\n",
        "    for action in tqdm.tqdm(actions):\n",
        "        feature_dict = {}\n",
        "\n",
        "        # ID one-hot feature\n",
        "        item_id = action['item_id']\n",
        "        user_id = action['user_id']\n",
        "\n",
        "        # item_id_one_hot = id2onehot(item_id, itemIDDict)\n",
        "        # user_id_one_hot = id2onehot(user_id, userIDDict)\n",
        "\n",
        "        feature_dict['item_id'] = itemIDDict.get(item_id, maxItemNum)\n",
        "        feature_dict['user_id'] = userIDDict.get(user_id, maxUserNum)\n",
        "\n",
        "        # Category one-hot feature\n",
        "        category = action['category']\n",
        "        category_one_hot = id2onehot(category, categoryDict).toarray().reshape(-1)\n",
        "\n",
        "        feature_dict['category_id'] = categoryDict.get(category, 0)\n",
        "\n",
        "        # body type one-hot feature\n",
        "        body_type = action.get('body type', 'UNK')\n",
        "        body_type_one_hot = id2onehot(body_type, bodyShapeDict).toarray().reshape(-1)\n",
        "\n",
        "        feature_dict['body_type_id'] = bodyShapeDict.get(body_type, 0)\n",
        "\n",
        "        size = action.get('size', -1)\n",
        "        age = int(action.get('age', -1))\n",
        "        height = height2inches(action.get('height', '0\\' 0\"'))\n",
        "        # bust_size = action.get('bust size', 'UNK')\n",
        "        weight = int(action.get('weight', '0lbs')[:-3])\n",
        "\n",
        "        dense_feature = numpy.array([size, age, height, weight], dtype=numpy.float32)\n",
        "        dense_feature = numpy.hstack([category_one_hot, body_type_one_hot, dense_feature])\n",
        "        feature_dict['dense'] = dense_feature\n",
        "\n",
        "        features.append(feature_dict)\n",
        "\n",
        "    return features\n",
        "\n",
        "def processY(actions):\n",
        "    datasize = len(actions)\n",
        "\n",
        "    labels = [fit_dict[a['fit']] for a in actions]\n",
        "\n",
        "    return numpy.array(labels)\n",
        "\n",
        "trainX = processNNX(actionsTrain)\n",
        "trainY = processY(actionsTrain)\n",
        "validX = processNNX(actionsValid)\n",
        "validY = processY(actionsValid)\n",
        "testX = processNNX(actionsTest)\n",
        "testY = processY(actionsTest)"
      ]
    },
    {
      "cell_type": "code",
      "execution_count": null,
      "id": "35448566",
      "metadata": {
        "colab": {
          "base_uri": "https://localhost:8080/"
        },
        "id": "35448566",
        "outputId": "3111ba15-ee2f-4094-bb6d-ca547403f70b"
      },
      "outputs": [
        {
          "output_type": "execute_result",
          "data": {
            "text/plain": [
              "{'item_id': 299,\n",
              " 'user_id': 5000,\n",
              " 'category_id': 20,\n",
              " 'body_type_id': 2,\n",
              " 'dense': array([  0.,   0.,   0.,   0.,   0.,   0.,   0.,   0.,   0.,   0.,   0.,\n",
              "          0.,   0.,   0.,   0.,   0.,   0.,   0.,   0.,   0.,   1.,   0.,\n",
              "          0.,   0.,   0.,   0.,   0.,   0.,   0.,   0.,   0.,   0.,   0.,\n",
              "          0.,   0.,   0.,   0.,   0.,   0.,   0.,   0.,   0.,   0.,   0.,\n",
              "          0.,   0.,   0.,   0.,   0.,   0.,   0.,   0.,   0.,   0.,   0.,\n",
              "          0.,   0.,   0.,   0.,   0.,   0.,   0.,   0.,   0.,   0.,   0.,\n",
              "          0.,   1.,   0.,   0.,   0.,   0.,   0.,  12.,  56.,  64., 135.])}"
            ]
          },
          "metadata": {},
          "execution_count": 23
        }
      ],
      "source": [
        "trainX[100]"
      ]
    },
    {
      "cell_type": "code",
      "execution_count": 20,
      "id": "3be8eae5",
      "metadata": {
        "id": "3be8eae5"
      },
      "outputs": [],
      "source": [
        "# Pytorch Dataset\n",
        "class CustomDataset(Dataset):\n",
        "    def __init__(self, X, Y):\n",
        "        self.X = X\n",
        "        self.Y = Y\n",
        "\n",
        "    def __len__(self):\n",
        "        return len(self.X)\n",
        "\n",
        "    def __getitem__(self, idx):\n",
        "        return self.X[idx], self.Y[idx]\n",
        "\n",
        "trainDataset = CustomDataset(trainX, trainY)\n",
        "trainDataloader = DataLoader(trainDataset, batch_size=8192, shuffle=True)\n",
        "\n",
        "validDataset = CustomDataset(validX, validY)\n",
        "validDataloader = DataLoader(validDataset, batch_size=4096, shuffle=True)\n",
        "\n",
        "testDataset = CustomDataset(testX, testY)\n",
        "testDataLoader = DataLoader(testDataset, batch_size=4096, shuffle=True)"
      ]
    },
    {
      "cell_type": "code",
      "execution_count": 21,
      "id": "75683e84",
      "metadata": {
        "id": "75683e84"
      },
      "outputs": [],
      "source": [
        "# Latent Factor Model (baseline 2)\n",
        "class LatentModel(nn.Module):\n",
        "    def __init__(self, embedding_size):\n",
        "        super(LatentModel, self).__init__()\n",
        "\n",
        "        self.embedding_size = embedding_size\n",
        "\n",
        "        self.beta_u = torch.nn.Embedding(maxUserNum + 1, 1)\n",
        "        self.beta_i = torch.nn.Embedding(maxItemNum + 1, 1)\n",
        "\n",
        "        self.user_embedding = torch.nn.Embedding(maxUserNum + 1, embedding_size)\n",
        "        self.item_embedding = torch.nn.Embedding(maxItemNum + 1, embedding_size)\n",
        "\n",
        "        init.normal_(self.user_embedding.weight, mean=0.0, std=1e-3)\n",
        "        init.normal_(self.item_embedding.weight, mean=0.0, std=1e-3)\n",
        "        init.normal_(self.beta_u.weight, mean=0.0, std=1e-3)\n",
        "        init.normal_(self.beta_i.weight, mean=0.0, std=1e-3)\n",
        "\n",
        "        self.alpha = torch.nn.Parameter(torch.tensor(global_average))\n",
        "\n",
        "    def forward(self, user_id, item_id):\n",
        "        embedded_user = self.user_embedding(user_id)\n",
        "        embedded_item = self.item_embedding(item_id)\n",
        "\n",
        "        beta_u_t = self.beta_u(user_id).squeeze()\n",
        "        beta_i_t = self.beta_i(item_id).squeeze()\n",
        "\n",
        "        product = (embedded_user * embedded_item).sum(axis=1)\n",
        "\n",
        "        pred = beta_u_t + beta_i_t + self.alpha + product\n",
        "        return pred\n",
        "\n",
        "    def get_loss(self, user_id, item_id, y, lamb):\n",
        "        pred = self.forward(user_id, item_id)\n",
        "        acc_loss = torch.sum((pred - y) ** 2)\n",
        "\n",
        "        regularization = lamb * (\n",
        "            torch.norm(model.beta_u.weight) ** 2 + \\\n",
        "            torch.norm(model.beta_i.weight) ** 2 + \\\n",
        "            torch.norm(self.user_embedding.weight) ** 2 + \\\n",
        "            torch.norm(self.item_embedding.weight) ** 2\n",
        "        )\n",
        "\n",
        "        return acc_loss + regularization\n"
      ]
    },
    {
      "cell_type": "code",
      "execution_count": 22,
      "id": "091e2691",
      "metadata": {
        "id": "091e2691"
      },
      "outputs": [],
      "source": [
        "def get_device():\n",
        "    # return \"cpu\"\n",
        "    return f\"cuda:0\" if torch.cuda.is_available() else \"cpu\"\n",
        "\n",
        "embedding_size = 6\n",
        "lr = 1e-3\n",
        "lamb = 1e-2\n",
        "\n",
        "device = get_device()\n",
        "model = LatentModel(embedding_size).to(device)\n",
        "\n",
        "optimizer = optim.Adam(model.parameters(), lr=lr)"
      ]
    },
    {
      "cell_type": "code",
      "execution_count": 23,
      "id": "a0f587f7",
      "metadata": {
        "colab": {
          "base_uri": "https://localhost:8080/",
          "height": 212
        },
        "id": "a0f587f7",
        "outputId": "b13c5689-e7ed-42e9-9870-93c3c2ef7f81"
      },
      "outputs": [
        {
          "output_type": "stream",
          "name": "stderr",
          "text": [
            "\u001b[34m\u001b[1mwandb\u001b[0m: W&B API key is configured. Use \u001b[1m`wandb login --relogin`\u001b[0m to force relogin\n",
            "\u001b[34m\u001b[1mwandb\u001b[0m: \u001b[33mWARNING\u001b[0m If you're specifying your api key in code, ensure this code is not shared publicly.\n",
            "\u001b[34m\u001b[1mwandb\u001b[0m: \u001b[33mWARNING\u001b[0m Consider setting the WANDB_API_KEY environment variable, or running `wandb login` from the command line.\n",
            "\u001b[34m\u001b[1mwandb\u001b[0m: Appending key for api.wandb.ai to your netrc file: /root/.netrc\n",
            "\u001b[34m\u001b[1mwandb\u001b[0m: Currently logged in as: \u001b[33mketerw\u001b[0m (\u001b[33mece_285\u001b[0m). Use \u001b[1m`wandb login --relogin`\u001b[0m to force relogin\n"
          ]
        },
        {
          "output_type": "display_data",
          "data": {
            "text/plain": [
              "<IPython.core.display.HTML object>"
            ],
            "text/html": [
              "Tracking run with wandb version 0.16.1"
            ]
          },
          "metadata": {}
        },
        {
          "output_type": "display_data",
          "data": {
            "text/plain": [
              "<IPython.core.display.HTML object>"
            ],
            "text/html": [
              "Run data is saved locally in <code>/content/wandb/run-20231206_000339-myzfqvry</code>"
            ]
          },
          "metadata": {}
        },
        {
          "output_type": "display_data",
          "data": {
            "text/plain": [
              "<IPython.core.display.HTML object>"
            ],
            "text/html": [
              "Syncing run <strong><a href='https://wandb.ai/ece_285/258_assignment_2/runs/myzfqvry' target=\"_blank\">restful-wave-47</a></strong> to <a href='https://wandb.ai/ece_285/258_assignment_2' target=\"_blank\">Weights & Biases</a> (<a href='https://wandb.me/run' target=\"_blank\">docs</a>)<br/>"
            ]
          },
          "metadata": {}
        },
        {
          "output_type": "display_data",
          "data": {
            "text/plain": [
              "<IPython.core.display.HTML object>"
            ],
            "text/html": [
              " View project at <a href='https://wandb.ai/ece_285/258_assignment_2' target=\"_blank\">https://wandb.ai/ece_285/258_assignment_2</a>"
            ]
          },
          "metadata": {}
        },
        {
          "output_type": "display_data",
          "data": {
            "text/plain": [
              "<IPython.core.display.HTML object>"
            ],
            "text/html": [
              " View run at <a href='https://wandb.ai/ece_285/258_assignment_2/runs/myzfqvry' target=\"_blank\">https://wandb.ai/ece_285/258_assignment_2/runs/myzfqvry</a>"
            ]
          },
          "metadata": {}
        },
        {
          "output_type": "execute_result",
          "data": {
            "text/html": [
              "<button onClick=\"this.nextSibling.style.display='block';this.style.display='none';\">Display W&B run</button><iframe src='https://wandb.ai/ece_285/258_assignment_2/runs/myzfqvry?jupyter=true' style='border:none;width:100%;height:420px;display:none;'></iframe>"
            ],
            "text/plain": [
              "<wandb.sdk.wandb_run.Run at 0x7fba2513fc70>"
            ]
          },
          "metadata": {},
          "execution_count": 23
        }
      ],
      "source": [
        "wandb.login(key='615cc5ff71e9bda47784da5f75acd909681f4f0b')\n",
        "wandb.init(project=\"258_assignment_2\",config={\n",
        "          \"learning_rate\": lr,\n",
        "          \"lamb\": lamb,\n",
        "           \"embedding_size\": embedding_size\n",
        "})"
      ]
    },
    {
      "cell_type": "code",
      "execution_count": 24,
      "id": "93c17d90",
      "metadata": {
        "colab": {
          "base_uri": "https://localhost:8080/"
        },
        "id": "93c17d90",
        "outputId": "35f71f35-6dbd-426e-d713-c905994737de"
      },
      "outputs": [
        {
          "output_type": "stream",
          "name": "stderr",
          "text": [
            "100%|██████████| 15/15 [00:02<00:00,  7.22it/s]\n",
            "100%|██████████| 10/10 [00:00<00:00, 32.23it/s]\n",
            "100%|██████████| 15/15 [00:01<00:00,  8.71it/s]\n",
            "100%|██████████| 10/10 [00:00<00:00, 11.67it/s]\n",
            "100%|██████████| 15/15 [00:01<00:00,  8.15it/s]\n",
            "100%|██████████| 10/10 [00:00<00:00, 34.66it/s]\n",
            "100%|██████████| 15/15 [00:01<00:00,  9.35it/s]\n",
            "100%|██████████| 10/10 [00:00<00:00, 37.04it/s]\n",
            "100%|██████████| 15/15 [00:01<00:00,  9.99it/s]\n",
            "100%|██████████| 10/10 [00:00<00:00, 28.75it/s]\n",
            "100%|██████████| 15/15 [00:01<00:00,  9.46it/s]\n",
            "100%|██████████| 10/10 [00:00<00:00, 38.39it/s]\n",
            "100%|██████████| 15/15 [00:01<00:00, 12.32it/s]\n",
            "100%|██████████| 10/10 [00:00<00:00, 17.83it/s]\n",
            "100%|██████████| 15/15 [00:01<00:00, 11.96it/s]\n",
            "100%|██████████| 10/10 [00:00<00:00, 18.50it/s]\n",
            "100%|██████████| 15/15 [00:01<00:00,  8.75it/s]\n",
            "100%|██████████| 10/10 [00:00<00:00, 12.92it/s]\n",
            "100%|██████████| 15/15 [00:01<00:00,  8.30it/s]\n",
            "100%|██████████| 10/10 [00:00<00:00, 32.75it/s]\n",
            "100%|██████████| 15/15 [00:01<00:00, 10.00it/s]\n",
            "100%|██████████| 10/10 [00:00<00:00, 36.40it/s]\n",
            "100%|██████████| 15/15 [00:01<00:00, 10.28it/s]\n",
            "100%|██████████| 10/10 [00:00<00:00, 35.51it/s]\n",
            "100%|██████████| 15/15 [00:01<00:00, 10.18it/s]\n",
            "100%|██████████| 10/10 [00:00<00:00, 33.94it/s]\n",
            "100%|██████████| 15/15 [00:01<00:00, 12.49it/s]\n",
            "100%|██████████| 10/10 [00:00<00:00, 17.81it/s]\n",
            "100%|██████████| 15/15 [00:01<00:00, 12.18it/s]\n",
            "100%|██████████| 10/10 [00:00<00:00, 17.77it/s]\n",
            "100%|██████████| 15/15 [00:01<00:00,  9.14it/s]\n",
            "100%|██████████| 10/10 [00:00<00:00, 21.65it/s]\n",
            "100%|██████████| 15/15 [00:02<00:00,  6.97it/s]\n",
            "100%|██████████| 10/10 [00:00<00:00, 34.59it/s]\n",
            "100%|██████████| 15/15 [00:01<00:00, 10.09it/s]\n",
            "100%|██████████| 10/10 [00:00<00:00, 34.33it/s]\n",
            "100%|██████████| 15/15 [00:01<00:00,  9.48it/s]\n",
            "100%|██████████| 10/10 [00:00<00:00, 34.76it/s]\n",
            "100%|██████████| 15/15 [00:01<00:00, 11.82it/s]\n",
            "100%|██████████| 10/10 [00:00<00:00, 17.26it/s]\n",
            "100%|██████████| 15/15 [00:01<00:00, 11.85it/s]\n",
            "100%|██████████| 10/10 [00:00<00:00, 17.08it/s]\n",
            "100%|██████████| 15/15 [00:01<00:00, 11.88it/s]\n",
            "100%|██████████| 10/10 [00:00<00:00, 17.57it/s]\n",
            "100%|██████████| 15/15 [00:01<00:00,  8.77it/s]\n",
            "100%|██████████| 10/10 [00:00<00:00, 21.22it/s]\n",
            "100%|██████████| 15/15 [00:02<00:00,  7.15it/s]\n",
            "100%|██████████| 10/10 [00:00<00:00, 35.14it/s]\n",
            "100%|██████████| 15/15 [00:01<00:00,  9.80it/s]\n",
            "100%|██████████| 10/10 [00:00<00:00, 35.71it/s]\n",
            "100%|██████████| 15/15 [00:01<00:00, 11.93it/s]\n",
            "100%|██████████| 10/10 [00:00<00:00, 18.01it/s]\n",
            "100%|██████████| 15/15 [00:01<00:00, 11.89it/s]\n",
            "100%|██████████| 10/10 [00:00<00:00, 17.37it/s]\n",
            "100%|██████████| 15/15 [00:01<00:00, 12.21it/s]\n",
            "100%|██████████| 10/10 [00:00<00:00, 17.99it/s]\n",
            "100%|██████████| 15/15 [00:01<00:00, 12.29it/s]\n",
            "100%|██████████| 10/10 [00:00<00:00, 33.64it/s]\n",
            "100%|██████████| 15/15 [00:01<00:00,  7.62it/s]\n",
            "100%|██████████| 10/10 [00:00<00:00, 22.41it/s]\n",
            "100%|██████████| 15/15 [00:02<00:00,  5.76it/s]\n",
            "100%|██████████| 10/10 [00:00<00:00, 34.28it/s]\n",
            "100%|██████████| 15/15 [00:01<00:00,  9.73it/s]\n",
            "100%|██████████| 10/10 [00:00<00:00, 35.18it/s]\n",
            "100%|██████████| 15/15 [00:01<00:00, 11.95it/s]\n",
            "100%|██████████| 10/10 [00:00<00:00, 17.94it/s]\n",
            "100%|██████████| 15/15 [00:01<00:00, 12.21it/s]\n",
            "100%|██████████| 10/10 [00:00<00:00, 18.17it/s]\n",
            "100%|██████████| 15/15 [00:01<00:00, 12.01it/s]\n",
            "100%|██████████| 10/10 [00:00<00:00, 31.09it/s]\n",
            "100%|██████████| 15/15 [00:01<00:00,  7.66it/s]\n",
            "100%|██████████| 10/10 [00:01<00:00,  8.61it/s]\n",
            "100%|██████████| 15/15 [00:02<00:00,  6.46it/s]\n",
            "100%|██████████| 10/10 [00:00<00:00, 23.54it/s]\n",
            "100%|██████████| 15/15 [00:01<00:00,  9.78it/s]\n",
            "100%|██████████| 10/10 [00:00<00:00, 37.07it/s]\n",
            "100%|██████████| 15/15 [00:01<00:00, 12.06it/s]\n",
            "100%|██████████| 10/10 [00:00<00:00, 17.64it/s]\n",
            "100%|██████████| 15/15 [00:01<00:00, 12.37it/s]\n",
            "100%|██████████| 10/10 [00:00<00:00, 18.51it/s]\n",
            "100%|██████████| 15/15 [00:01<00:00, 11.90it/s]\n",
            "100%|██████████| 10/10 [00:00<00:00, 18.22it/s]\n",
            "100%|██████████| 15/15 [00:01<00:00, 12.32it/s]\n",
            "100%|██████████| 10/10 [00:00<00:00, 33.71it/s]\n",
            "100%|██████████| 15/15 [00:01<00:00,  9.01it/s]\n",
            "100%|██████████| 10/10 [00:00<00:00, 21.93it/s]\n",
            "100%|██████████| 15/15 [00:02<00:00,  6.69it/s]\n",
            "100%|██████████| 10/10 [00:00<00:00, 22.87it/s]\n",
            "100%|██████████| 15/15 [00:01<00:00, 10.86it/s]\n",
            "100%|██████████| 10/10 [00:00<00:00, 18.62it/s]\n",
            "100%|██████████| 15/15 [00:01<00:00, 11.60it/s]\n",
            "100%|██████████| 10/10 [00:00<00:00, 17.57it/s]\n",
            "100%|██████████| 15/15 [00:01<00:00, 12.21it/s]\n",
            "100%|██████████| 10/10 [00:00<00:00, 17.58it/s]\n",
            "100%|██████████| 15/15 [00:01<00:00, 12.07it/s]\n",
            "100%|██████████| 10/10 [00:00<00:00, 33.16it/s]\n",
            "100%|██████████| 15/15 [00:01<00:00,  9.59it/s]\n",
            "100%|██████████| 10/10 [00:00<00:00, 36.20it/s]\n",
            "100%|██████████| 15/15 [00:01<00:00,  9.50it/s]\n",
            "100%|██████████| 10/10 [00:00<00:00, 23.93it/s]\n"
          ]
        }
      ],
      "source": [
        "num_epochs = 50\n",
        "\n",
        "for epoch in range(num_epochs):\n",
        "    model.train()\n",
        "    for batch_x, batch_y in tqdm.tqdm(trainDataloader):\n",
        "        batch_y = batch_y.to(device).to(torch.float32)\n",
        "\n",
        "        loss = model.get_loss(\n",
        "            batch_x['user_id'].to(device),\n",
        "            batch_x['item_id'].to(device),\n",
        "            batch_y,\n",
        "            lamb\n",
        "        )\n",
        "\n",
        "        # Backward pass and optimization\n",
        "        optimizer.zero_grad()\n",
        "        loss.backward()\n",
        "        optimizer.step()\n",
        "\n",
        "        wandb.log({\"loss\": loss.item() / batch_y.shape[0]})\n",
        "\n",
        "\n",
        "\n",
        "    model.eval()\n",
        "    all_y = []\n",
        "    all_pred = []\n",
        "    for batch_x, batch_y in tqdm.tqdm(validDataloader):\n",
        "        batch_y = batch_y.to(device).to(torch.float32)\n",
        "        predictions = model(\n",
        "            batch_x['user_id'].to(device),\n",
        "            batch_x['item_id'].to(device)\n",
        "        )\n",
        "        all_pred.append(predictions)\n",
        "        all_y.append(batch_y)\n",
        "\n",
        "    from sklearn.metrics import mean_squared_error\n",
        "    MSE = mean_squared_error(\n",
        "            torch.cat(all_y).detach().cpu().numpy(),\n",
        "            torch.cat(all_pred).detach().cpu().numpy()\n",
        "        )\n",
        "    wandb.log({\"validation_MSE\": MSE})"
      ]
    },
    {
      "cell_type": "code",
      "execution_count": 39,
      "id": "179f4b85",
      "metadata": {
        "colab": {
          "base_uri": "https://localhost:8080/"
        },
        "id": "179f4b85",
        "outputId": "5c389191-ff43-47aa-a6ab-63af92f606a0"
      },
      "outputs": [
        {
          "output_type": "stream",
          "name": "stderr",
          "text": [
            "100%|██████████| 10/10 [00:00<00:00, 37.16it/s]\n"
          ]
        }
      ],
      "source": [
        "model.eval()\n",
        "all_y = []\n",
        "all_pred = []\n",
        "for batch_x, batch_y in tqdm.tqdm(validDataloader):\n",
        "    batch_y = batch_y.to(device).to(torch.float32)\n",
        "    predictions = model(\n",
        "        batch_x['user_id'].to(device),\n",
        "        batch_x['item_id'].to(device)\n",
        "    )\n",
        "    all_pred.append(predictions)\n",
        "    all_y.append(batch_y)\n",
        "\n",
        "all_pred = torch.cat(all_pred, axis=0).cpu().detach().numpy()\n",
        "all_y = torch.cat(all_y, axis=0).cpu().detach().numpy()"
      ]
    },
    {
      "cell_type": "code",
      "execution_count": 40,
      "id": "853a2a27",
      "metadata": {
        "scrolled": true,
        "id": "853a2a27"
      },
      "outputs": [],
      "source": [
        "thres, score = decideThreshold(all_pred, all_y)"
      ]
    },
    {
      "cell_type": "code",
      "execution_count": 41,
      "id": "595f9a1f",
      "metadata": {
        "colab": {
          "base_uri": "https://localhost:8080/"
        },
        "id": "595f9a1f",
        "outputId": "8823f28e-23b4-4283-bd5a-459f95dc3698"
      },
      "outputs": [
        {
          "output_type": "stream",
          "name": "stderr",
          "text": [
            "100%|██████████| 10/10 [00:01<00:00,  5.98it/s]\n"
          ]
        }
      ],
      "source": [
        "model.eval()\n",
        "all_y = []\n",
        "all_pred = []\n",
        "for batch_x, batch_y in tqdm.tqdm(testDataLoader):\n",
        "    batch_y = batch_y.to(device).to(torch.float32)\n",
        "    predictions = model(\n",
        "        batch_x['user_id'].to(device),\n",
        "        batch_x['item_id'].to(device)\n",
        "    )\n",
        "    all_pred.append(predictions)\n",
        "    all_y.append(batch_y)\n",
        "\n",
        "all_pred = torch.cat(all_pred, axis=0).cpu().detach().numpy()\n",
        "all_y = torch.cat(all_y, axis=0).cpu().detach().numpy()"
      ]
    },
    {
      "cell_type": "code",
      "execution_count": 42,
      "id": "081d3f8b",
      "metadata": {
        "id": "081d3f8b"
      },
      "outputs": [],
      "source": [
        "testScore, predLabels = predict(all_pred, all_y, thres)"
      ]
    },
    {
      "cell_type": "code",
      "execution_count": 43,
      "id": "93bc5051",
      "metadata": {
        "colab": {
          "base_uri": "https://localhost:8080/"
        },
        "id": "93bc5051",
        "outputId": "6e53e865-19ad-43ac-c1c8-2e40befad257"
      },
      "outputs": [
        {
          "output_type": "execute_result",
          "data": {
            "text/plain": [
              "0.7502986237340951"
            ]
          },
          "metadata": {},
          "execution_count": 43
        }
      ],
      "source": [
        "testScore"
      ]
    },
    {
      "cell_type": "code",
      "source": [
        "print(calculate_accuracy(all_y, predLabels))\n",
        "print(mean_squared_error(all_y, all_pred))"
      ],
      "metadata": {
        "colab": {
          "base_uri": "https://localhost:8080/"
        },
        "id": "cO3rHtfg1rWb",
        "outputId": "9ca89c85-3ae7-418c-c7c2-4ebb37111e97"
      },
      "id": "cO3rHtfg1rWb",
      "execution_count": 45,
      "outputs": [
        {
          "output_type": "stream",
          "name": "stdout",
          "text": [
            "{1: 0.14224226275876203, -1: 0.1487396574947085, 0: 0.9645846521769712}\n",
            "0.21506965\n"
          ]
        }
      ]
    },
    {
      "cell_type": "code",
      "source": [
        "class WideAndDeep(nn.Module):\n",
        "    def __init__(self, embedding_size, num_dense, hidden_units):\n",
        "        super(WideAndDeep, self).__init__()\n",
        "\n",
        "        self.embedding_size = embedding_size\n",
        "\n",
        "        self.beta_u = torch.nn.Embedding(maxUserNum + 1, 1)\n",
        "        self.beta_i = torch.nn.Embedding(maxItemNum + 1, 1)\n",
        "\n",
        "        self.user_embedding = torch.nn.Embedding(maxUserNum + 1, embedding_size)\n",
        "        self.item_embedding = torch.nn.Embedding(maxItemNum + 1, embedding_size)\n",
        "\n",
        "        init.normal_(self.user_embedding.weight, mean=0.0, std=1e-3)\n",
        "        init.normal_(self.item_embedding.weight, mean=0.0, std=1e-3)\n",
        "        init.normal_(self.beta_u.weight, mean=0.0, std=1e-3)\n",
        "        init.normal_(self.beta_i.weight, mean=0.0, std=1e-3)\n",
        "\n",
        "        self.alpha = torch.nn.Parameter(torch.tensor(global_average))\n",
        "\n",
        "        # Deep Tower\n",
        "        # hidden layers\n",
        "        self.fc_layers = nn.ModuleList()\n",
        "        input_dim = embedding_size + embedding_size + num_dense\n",
        "        for hidden_unit in hidden_units:\n",
        "            self.fc_layers.append(nn.Linear(input_dim, hidden_unit))\n",
        "            input_dim = hidden_unit\n",
        "\n",
        "        # output layer\n",
        "        self.output = nn.Linear(input_dim, 1)\n",
        "\n",
        "    def forward(self, user_id, item_id, dense):\n",
        "        embedded_user = self.user_embedding(user_id)\n",
        "        embedded_item = self.item_embedding(item_id)\n",
        "\n",
        "        beta_u_t = self.beta_u(user_id).squeeze()\n",
        "        beta_i_t = self.beta_i(item_id).squeeze()\n",
        "\n",
        "        product = (embedded_user * embedded_item).sum(axis=1)\n",
        "\n",
        "        # dense tower\n",
        "        deep_input = torch.cat([embedded_user, embedded_item, dense], dim=1)\n",
        "        for layer in self.fc_layers:\n",
        "            deep_input = F.relu(layer(deep_input))\n",
        "\n",
        "        deep_output = self.output(deep_input).squeeze()\n",
        "\n",
        "        pred = beta_u_t + beta_i_t + self.alpha + product + deep_output\n",
        "        return pred\n",
        "\n",
        "    def get_loss(self, user_id, item_id, dense, y, lamb):\n",
        "        pred = self.forward(user_id, item_id, dense)\n",
        "        acc_loss = torch.sum((pred - y) ** 2)\n",
        "\n",
        "        regularization = lamb * (\n",
        "            torch.norm(self.beta_u.weight) ** 2 + \\\n",
        "            torch.norm(self.beta_i.weight) ** 2 + \\\n",
        "            torch.norm(self.user_embedding.weight) ** 2 + \\\n",
        "            torch.norm(self.item_embedding.weight) ** 2\n",
        "        )\n",
        "\n",
        "        return acc_loss + regularization"
      ],
      "metadata": {
        "id": "Hhf7OQkRwaql"
      },
      "id": "Hhf7OQkRwaql",
      "execution_count": 48,
      "outputs": []
    },
    {
      "cell_type": "code",
      "execution_count": 49,
      "id": "6c876d43",
      "metadata": {
        "id": "6c876d43"
      },
      "outputs": [],
      "source": [
        "def get_device():\n",
        "    # return \"cpu\"\n",
        "    return f\"cuda:0\" if torch.cuda.is_available() else \"cpu\"\n",
        "\n",
        "embedding_size = 6\n",
        "lr = 1e-3\n",
        "lamb = 1e-2\n",
        "\n",
        "device = get_device()\n",
        "wdModel = WideAndDeep(embedding_size, len(trainX[0]['dense']), [32, 16, 4]).to(device)\n",
        "\n",
        "optimizer = optim.Adam(wdModel.parameters(), lr=lr)"
      ]
    },
    {
      "cell_type": "code",
      "source": [
        "wandb.login(key='615cc5ff71e9bda47784da5f75acd909681f4f0b')\n",
        "wandb.init(project=\"258_assignment_2\",\n",
        "           name=\"w&d\",config={\n",
        "          \"learning_rate\": lr,\n",
        "          \"lamb\": lamb,\n",
        "           \"embedding_size\": embedding_size\n",
        "})"
      ],
      "metadata": {
        "colab": {
          "base_uri": "https://localhost:8080/",
          "height": 432,
          "referenced_widgets": [
            "96d6c79af1de47778aa051d77fef038a",
            "081ec020d5554007a77d2d5e0dc80194",
            "9da9f80b40c2465db48ab26a03a02028",
            "91379a9957ac4a38b35e9f3046490a49",
            "fd405f27612b4e8283de941a2e7bacb6",
            "9c58539f1e99432eaff38b3b8d6efabc",
            "2837f41e6cd643eea7827bfe207518a5",
            "b599a0eea0d24077a6e3af3e8e840390",
            "6dac6c77f918413da5f581b9bec744ed",
            "22bb77913eb44a93ac97f57cdfd8edda",
            "c74b02237e514f6c82fa2a4db7c0763a",
            "cd4f1b15656e499d9f63868d65026c69",
            "cc8e3d5b77d24c47839e032d3fc6381d",
            "d892c193dde7469caf3810a80daedfa5",
            "99b657af3ba24ab8acd4ee145eb3eb75",
            "d93c86685ed84324924eff712be9f846"
          ]
        },
        "id": "CVI8gG_GZA-g",
        "outputId": "1412c999-72a0-429a-95d1-2cd3a6023548"
      },
      "id": "CVI8gG_GZA-g",
      "execution_count": 50,
      "outputs": [
        {
          "output_type": "stream",
          "name": "stderr",
          "text": [
            "\u001b[34m\u001b[1mwandb\u001b[0m: \u001b[33mWARNING\u001b[0m Calling wandb.login() after wandb.init() has no effect.\n"
          ]
        },
        {
          "output_type": "display_data",
          "data": {
            "text/plain": [
              "<IPython.core.display.HTML object>"
            ],
            "text/html": [
              "Finishing last run (ID:3wrlacgs) before initializing another..."
            ]
          },
          "metadata": {}
        },
        {
          "output_type": "display_data",
          "data": {
            "text/plain": [
              "VBox(children=(Label(value='0.001 MB of 0.001 MB uploaded\\r'), FloatProgress(value=1.0, max=1.0)))"
            ],
            "application/vnd.jupyter.widget-view+json": {
              "version_major": 2,
              "version_minor": 0,
              "model_id": "96d6c79af1de47778aa051d77fef038a"
            }
          },
          "metadata": {}
        },
        {
          "output_type": "display_data",
          "data": {
            "text/plain": [
              "<IPython.core.display.HTML object>"
            ],
            "text/html": [
              "<style>\n",
              "    table.wandb td:nth-child(1) { padding: 0 10px; text-align: left ; width: auto;} td:nth-child(2) {text-align: left ; width: 100%}\n",
              "    .wandb-row { display: flex; flex-direction: row; flex-wrap: wrap; justify-content: flex-start; width: 100% }\n",
              "    .wandb-col { display: flex; flex-direction: column; flex-basis: 100%; flex: 1; padding: 10px; }\n",
              "    </style>\n",
              "<div class=\"wandb-row\"><div class=\"wandb-col\"><h3>Run history:</h3><br/><table class=\"wandb\"><tr><td>loss</td><td>█▇▇▇▆▅▇▅▅▄▄▃▃▃▃▃▃▃▂▂▂▂▂▁▁▁▁▁▁▁▁▁▁▁▂▁▁▁▃▂</td></tr><tr><td>validation_MSE</td><td>██▇▇▆▅▅▄▄▃▃▃▂▂▂▂▁▁▁▁▁▁▁▁▁▁▁▁▁▁▁▁▁▁▁▁▁▁▁▁</td></tr></table><br/></div><div class=\"wandb-col\"><h3>Run summary:</h3><br/><table class=\"wandb\"><tr><td>loss</td><td>0.17846</td></tr><tr><td>validation_MSE</td><td>0.21529</td></tr></table><br/></div></div>"
            ]
          },
          "metadata": {}
        },
        {
          "output_type": "display_data",
          "data": {
            "text/plain": [
              "<IPython.core.display.HTML object>"
            ],
            "text/html": [
              " View run <strong style=\"color:#cdcd00\">silver-serenity-45</strong> at: <a href='https://wandb.ai/ece_285/258_assignment_2/runs/3wrlacgs' target=\"_blank\">https://wandb.ai/ece_285/258_assignment_2/runs/3wrlacgs</a><br/>Synced 5 W&B file(s), 0 media file(s), 0 artifact file(s) and 0 other file(s)"
            ]
          },
          "metadata": {}
        },
        {
          "output_type": "display_data",
          "data": {
            "text/plain": [
              "<IPython.core.display.HTML object>"
            ],
            "text/html": [
              "Find logs at: <code>./wandb/run-20231205_071642-3wrlacgs/logs</code>"
            ]
          },
          "metadata": {}
        },
        {
          "output_type": "display_data",
          "data": {
            "text/plain": [
              "<IPython.core.display.HTML object>"
            ],
            "text/html": [
              "Successfully finished last run (ID:3wrlacgs). Initializing new run:<br/>"
            ]
          },
          "metadata": {}
        },
        {
          "output_type": "display_data",
          "data": {
            "text/plain": [
              "VBox(children=(Label(value='Waiting for wandb.init()...\\r'), FloatProgress(value=0.011112584877777307, max=1.0…"
            ],
            "application/vnd.jupyter.widget-view+json": {
              "version_major": 2,
              "version_minor": 0,
              "model_id": "6dac6c77f918413da5f581b9bec744ed"
            }
          },
          "metadata": {}
        },
        {
          "output_type": "display_data",
          "data": {
            "text/plain": [
              "<IPython.core.display.HTML object>"
            ],
            "text/html": [
              "Tracking run with wandb version 0.16.0"
            ]
          },
          "metadata": {}
        },
        {
          "output_type": "display_data",
          "data": {
            "text/plain": [
              "<IPython.core.display.HTML object>"
            ],
            "text/html": [
              "Run data is saved locally in <code>/content/wandb/run-20231205_072106-538jx7ib</code>"
            ]
          },
          "metadata": {}
        },
        {
          "output_type": "display_data",
          "data": {
            "text/plain": [
              "<IPython.core.display.HTML object>"
            ],
            "text/html": [
              "Syncing run <strong><a href='https://wandb.ai/ece_285/258_assignment_2/runs/538jx7ib' target=\"_blank\">w&d</a></strong> to <a href='https://wandb.ai/ece_285/258_assignment_2' target=\"_blank\">Weights & Biases</a> (<a href='https://wandb.me/run' target=\"_blank\">docs</a>)<br/>"
            ]
          },
          "metadata": {}
        },
        {
          "output_type": "display_data",
          "data": {
            "text/plain": [
              "<IPython.core.display.HTML object>"
            ],
            "text/html": [
              " View project at <a href='https://wandb.ai/ece_285/258_assignment_2' target=\"_blank\">https://wandb.ai/ece_285/258_assignment_2</a>"
            ]
          },
          "metadata": {}
        },
        {
          "output_type": "display_data",
          "data": {
            "text/plain": [
              "<IPython.core.display.HTML object>"
            ],
            "text/html": [
              " View run at <a href='https://wandb.ai/ece_285/258_assignment_2/runs/538jx7ib' target=\"_blank\">https://wandb.ai/ece_285/258_assignment_2/runs/538jx7ib</a>"
            ]
          },
          "metadata": {}
        },
        {
          "output_type": "execute_result",
          "data": {
            "text/html": [
              "<button onClick=\"this.nextSibling.style.display='block';this.style.display='none';\">Display W&B run</button><iframe src='https://wandb.ai/ece_285/258_assignment_2/runs/538jx7ib?jupyter=true' style='border:none;width:100%;height:420px;display:none;'></iframe>"
            ],
            "text/plain": [
              "<wandb.sdk.wandb_run.Run at 0x7f68ca17fdc0>"
            ]
          },
          "metadata": {},
          "execution_count": 50
        }
      ]
    },
    {
      "cell_type": "code",
      "source": [
        "num_epochs = 50\n",
        "\n",
        "for epoch in range(num_epochs):\n",
        "    wdModel.train()\n",
        "    for batch_x, batch_y in tqdm.tqdm(trainDataloader):\n",
        "        batch_y = batch_y.to(device).to(torch.float32) #.to(torch.float32)\n",
        "        loss = wdModel.get_loss(\n",
        "            batch_x['user_id'].to(device),\n",
        "            batch_x['item_id'].to(device),\n",
        "            batch_x['dense'].to(device).to(torch.float32),\n",
        "            batch_y,\n",
        "            lamb,\n",
        "        )\n",
        "\n",
        "        # Backward pass and optimization\n",
        "        optimizer.zero_grad()\n",
        "        loss.backward()\n",
        "        optimizer.step()\n",
        "\n",
        "        wandb.log({\"loss\": loss.item() / batch_y.shape[0]})\n",
        "\n",
        "\n",
        "\n",
        "    wdModel.eval()\n",
        "    all_y = []\n",
        "    all_pred = []\n",
        "    for batch_x, batch_y in tqdm.tqdm(validDataloader):\n",
        "        batch_y = batch_y.to(device).to(torch.float32)\n",
        "        predictions = wdModel(\n",
        "            batch_x['user_id'].to(device),\n",
        "            batch_x['item_id'].to(device),\n",
        "            batch_x['dense'].to(device).to(torch.float32)\n",
        "        )\n",
        "        all_pred.append(predictions)\n",
        "        all_y.append(batch_y)\n",
        "\n",
        "    from sklearn.metrics import mean_squared_error\n",
        "    MSE = mean_squared_error(\n",
        "            torch.cat(all_y).detach().cpu().numpy(),\n",
        "            torch.cat(all_pred).detach().cpu().numpy()\n",
        "        )\n",
        "    wandb.log({\"validation_MSE\": MSE})"
      ],
      "metadata": {
        "colab": {
          "base_uri": "https://localhost:8080/"
        },
        "id": "22yC4CSfYmTH",
        "outputId": "2f9b610e-6a37-4f2a-dc50-cb8ee2dba054"
      },
      "id": "22yC4CSfYmTH",
      "execution_count": 51,
      "outputs": [
        {
          "output_type": "stream",
          "name": "stderr",
          "text": [
            "100%|██████████| 15/15 [00:04<00:00,  3.65it/s]\n",
            "100%|██████████| 10/10 [00:00<00:00, 16.74it/s]\n",
            "100%|██████████| 15/15 [00:01<00:00, 11.17it/s]\n",
            "100%|██████████| 10/10 [00:00<00:00, 17.04it/s]\n",
            "100%|██████████| 15/15 [00:01<00:00, 11.82it/s]\n",
            "100%|██████████| 10/10 [00:00<00:00, 33.49it/s]\n",
            "100%|██████████| 15/15 [00:04<00:00,  3.47it/s]\n",
            "100%|██████████| 10/10 [00:00<00:00, 13.59it/s]\n",
            "100%|██████████| 15/15 [00:03<00:00,  4.50it/s]\n",
            "100%|██████████| 10/10 [00:00<00:00, 37.56it/s]\n",
            "100%|██████████| 15/15 [00:01<00:00,  9.55it/s]\n",
            "100%|██████████| 10/10 [00:00<00:00, 35.60it/s]\n",
            "100%|██████████| 15/15 [00:01<00:00,  9.50it/s]\n",
            "100%|██████████| 10/10 [00:00<00:00, 18.18it/s]\n",
            "100%|██████████| 15/15 [00:01<00:00, 11.99it/s]\n",
            "100%|██████████| 10/10 [00:00<00:00, 17.15it/s]\n",
            "100%|██████████| 15/15 [00:01<00:00, 11.34it/s]\n",
            "100%|██████████| 10/10 [00:00<00:00, 21.43it/s]\n",
            "100%|██████████| 15/15 [00:02<00:00,  6.75it/s]\n",
            "100%|██████████| 10/10 [00:00<00:00, 22.72it/s]\n",
            "100%|██████████| 15/15 [00:01<00:00,  8.66it/s]\n",
            "100%|██████████| 10/10 [00:00<00:00, 36.43it/s]\n",
            "100%|██████████| 15/15 [00:01<00:00,  9.07it/s]\n",
            "100%|██████████| 10/10 [00:00<00:00, 35.33it/s]\n",
            "100%|██████████| 15/15 [00:01<00:00, 11.62it/s]\n",
            "100%|██████████| 10/10 [00:00<00:00, 14.03it/s]\n",
            "100%|██████████| 15/15 [00:01<00:00,  9.97it/s]\n",
            "100%|██████████| 10/10 [00:00<00:00, 17.71it/s]\n",
            "100%|██████████| 15/15 [00:01<00:00, 11.74it/s]\n",
            "100%|██████████| 10/10 [00:00<00:00, 36.46it/s]\n",
            "100%|██████████| 15/15 [00:01<00:00,  7.92it/s]\n",
            "100%|██████████| 10/10 [00:00<00:00, 21.77it/s]\n",
            "100%|██████████| 15/15 [00:02<00:00,  7.19it/s]\n",
            "100%|██████████| 10/10 [00:00<00:00, 34.98it/s]\n",
            "100%|██████████| 15/15 [00:02<00:00,  5.82it/s]\n",
            "100%|██████████| 10/10 [00:00<00:00, 18.03it/s]\n",
            "100%|██████████| 15/15 [00:02<00:00,  6.04it/s]\n",
            "100%|██████████| 10/10 [00:01<00:00,  9.95it/s]\n",
            "100%|██████████| 15/15 [00:02<00:00,  7.21it/s]\n",
            "100%|██████████| 10/10 [00:02<00:00,  3.92it/s]\n",
            "100%|██████████| 15/15 [00:03<00:00,  3.96it/s]\n",
            "100%|██████████| 10/10 [00:00<00:00, 14.35it/s]\n",
            "100%|██████████| 15/15 [00:01<00:00, 11.81it/s]\n",
            "100%|██████████| 10/10 [00:00<00:00, 34.96it/s]\n",
            "100%|██████████| 15/15 [00:01<00:00,  9.42it/s]\n",
            "100%|██████████| 10/10 [00:00<00:00, 32.02it/s]\n",
            "100%|██████████| 15/15 [00:01<00:00,  9.65it/s]\n",
            "100%|██████████| 10/10 [00:00<00:00, 34.61it/s]\n",
            "100%|██████████| 15/15 [00:01<00:00, 12.21it/s]\n",
            "100%|██████████| 10/10 [00:00<00:00, 16.84it/s]\n",
            "100%|██████████| 15/15 [00:01<00:00,  9.83it/s]\n",
            "100%|██████████| 10/10 [00:00<00:00, 12.53it/s]\n",
            "100%|██████████| 15/15 [00:01<00:00,  8.02it/s]\n",
            "100%|██████████| 10/10 [00:00<00:00, 16.08it/s]\n",
            "100%|██████████| 15/15 [00:01<00:00, 11.32it/s]\n",
            "100%|██████████| 10/10 [00:00<00:00, 35.22it/s]\n",
            "100%|██████████| 15/15 [00:01<00:00,  9.46it/s]\n",
            "100%|██████████| 10/10 [00:00<00:00, 36.61it/s]\n",
            "100%|██████████| 15/15 [00:01<00:00,  9.81it/s]\n",
            "100%|██████████| 10/10 [00:00<00:00, 31.94it/s]\n",
            "100%|██████████| 15/15 [00:01<00:00,  9.68it/s]\n",
            "100%|██████████| 10/10 [00:00<00:00, 33.94it/s]\n",
            "100%|██████████| 15/15 [00:01<00:00, 11.60it/s]\n",
            "100%|██████████| 10/10 [00:00<00:00, 17.60it/s]\n",
            "100%|██████████| 15/15 [00:01<00:00,  8.95it/s]\n",
            "100%|██████████| 10/10 [00:00<00:00, 12.40it/s]\n",
            "100%|██████████| 15/15 [00:01<00:00,  8.32it/s]\n",
            "100%|██████████| 10/10 [00:00<00:00, 17.49it/s]\n",
            "100%|██████████| 15/15 [00:01<00:00, 11.32it/s]\n",
            "100%|██████████| 10/10 [00:00<00:00, 31.87it/s]\n",
            "100%|██████████| 15/15 [00:01<00:00,  9.39it/s]\n",
            "100%|██████████| 10/10 [00:00<00:00, 33.33it/s]\n",
            "100%|██████████| 15/15 [00:01<00:00,  9.62it/s]\n",
            "100%|██████████| 10/10 [00:00<00:00, 33.00it/s]\n",
            "100%|██████████| 15/15 [00:01<00:00,  9.50it/s]\n",
            "100%|██████████| 10/10 [00:00<00:00, 34.17it/s]\n",
            "100%|██████████| 15/15 [00:01<00:00, 11.52it/s]\n",
            "100%|██████████| 10/10 [00:00<00:00, 15.74it/s]\n",
            "100%|██████████| 15/15 [00:01<00:00,  7.50it/s]\n",
            "100%|██████████| 10/10 [00:00<00:00, 12.13it/s]\n",
            "100%|██████████| 15/15 [00:01<00:00,  9.41it/s]\n",
            "100%|██████████| 10/10 [00:00<00:00, 36.92it/s]\n",
            "100%|██████████| 15/15 [00:01<00:00,  9.53it/s]\n",
            "100%|██████████| 10/10 [00:00<00:00, 33.14it/s]\n",
            "100%|██████████| 15/15 [00:01<00:00,  9.40it/s]\n",
            "100%|██████████| 10/10 [00:00<00:00, 35.50it/s]\n",
            "100%|██████████| 15/15 [00:01<00:00,  9.46it/s]\n",
            "100%|██████████| 10/10 [00:00<00:00, 36.21it/s]\n",
            "100%|██████████| 15/15 [00:01<00:00, 11.72it/s]\n",
            "100%|██████████| 10/10 [00:00<00:00, 17.99it/s]\n",
            "100%|██████████| 15/15 [00:01<00:00, 11.71it/s]\n",
            "100%|██████████| 10/10 [00:00<00:00, 12.85it/s]\n",
            "100%|██████████| 15/15 [00:01<00:00,  7.90it/s]\n",
            "100%|██████████| 10/10 [00:00<00:00, 22.45it/s]\n",
            "100%|██████████| 15/15 [00:01<00:00,  8.80it/s]\n",
            "100%|██████████| 10/10 [00:00<00:00, 35.26it/s]\n",
            "100%|██████████| 15/15 [00:01<00:00,  9.73it/s]\n",
            "100%|██████████| 10/10 [00:00<00:00, 34.56it/s]\n",
            "100%|██████████| 15/15 [00:01<00:00, 11.56it/s]\n",
            "100%|██████████| 10/10 [00:00<00:00, 17.54it/s]\n"
          ]
        }
      ]
    },
    {
      "cell_type": "code",
      "source": [
        "wdModel.eval()\n",
        "all_y = []\n",
        "all_pred = []\n",
        "for batch_x, batch_y in tqdm.tqdm(validDataloader):\n",
        "    batch_y = batch_y.to(device).to(torch.float32)\n",
        "    predictions = wdModel(\n",
        "        batch_x['user_id'].to(device),\n",
        "        batch_x['item_id'].to(device),\n",
        "        batch_x['dense'].to(device).to(torch.float32)\n",
        "    )\n",
        "    all_pred.append(predictions)\n",
        "    all_y.append(batch_y)\n",
        "\n",
        "from sklearn.metrics import mean_squared_error\n",
        "MSE = mean_squared_error(\n",
        "        torch.cat(all_y).detach().cpu().numpy(),\n",
        "        torch.cat(all_pred).detach().cpu().numpy()\n",
        "    )\n",
        "all_pred = torch.cat(all_pred, axis=0).cpu().detach().numpy()\n",
        "all_y = torch.cat(all_y, axis=0).cpu().detach().numpy()"
      ],
      "metadata": {
        "colab": {
          "base_uri": "https://localhost:8080/"
        },
        "id": "VTKLZamh2tC9",
        "outputId": "a403e0de-d7c9-4306-c350-7de5d633fb8d"
      },
      "id": "VTKLZamh2tC9",
      "execution_count": 55,
      "outputs": [
        {
          "output_type": "stream",
          "name": "stderr",
          "text": [
            "100%|██████████| 10/10 [00:00<00:00, 15.81it/s]\n"
          ]
        }
      ]
    },
    {
      "cell_type": "code",
      "source": [
        "thres, score = decideThreshold(all_pred, all_y)"
      ],
      "metadata": {
        "id": "6ULWmrHf3E54"
      },
      "id": "6ULWmrHf3E54",
      "execution_count": 56,
      "outputs": []
    },
    {
      "cell_type": "code",
      "source": [
        "wdModel.eval()\n",
        "all_y = []\n",
        "all_pred = []\n",
        "for batch_x, batch_y in tqdm.tqdm(testDataLoader):\n",
        "    batch_y = batch_y.to(device).to(torch.float32)\n",
        "    predictions = wdModel(\n",
        "        batch_x['user_id'].to(device),\n",
        "        batch_x['item_id'].to(device),\n",
        "        batch_x['dense'].to(device).to(torch.float32)\n",
        "    )\n",
        "    all_pred.append(predictions)\n",
        "    all_y.append(batch_y)\n",
        "\n",
        "from sklearn.metrics import mean_squared_error\n",
        "MSE = mean_squared_error(\n",
        "        torch.cat(all_y).detach().cpu().numpy(),\n",
        "        torch.cat(all_pred).detach().cpu().numpy()\n",
        "    )\n",
        "all_pred = torch.cat(all_pred, axis=0).cpu().detach().numpy()\n",
        "all_y = torch.cat(all_y, axis=0).cpu().detach().numpy()"
      ],
      "metadata": {
        "colab": {
          "base_uri": "https://localhost:8080/"
        },
        "id": "Jlv4M4v_bCfu",
        "outputId": "091e9b5a-02ed-40a3-a860-18b6093c58a1"
      },
      "id": "Jlv4M4v_bCfu",
      "execution_count": 58,
      "outputs": [
        {
          "output_type": "stream",
          "name": "stderr",
          "text": [
            "100%|██████████| 10/10 [00:00<00:00, 10.91it/s]\n"
          ]
        }
      ]
    },
    {
      "cell_type": "code",
      "source": [
        "testScore, predLabels = predict(all_pred, all_y, thres)"
      ],
      "metadata": {
        "id": "xpbH9NsY6VXm"
      },
      "id": "xpbH9NsY6VXm",
      "execution_count": 59,
      "outputs": []
    },
    {
      "cell_type": "code",
      "source": [
        "testScore"
      ],
      "metadata": {
        "id": "2nc1fdw36Xma",
        "colab": {
          "base_uri": "https://localhost:8080/"
        },
        "outputId": "9fc6ca32-a1ea-4f10-dd43-8d381c76c689"
      },
      "id": "2nc1fdw36Xma",
      "execution_count": 60,
      "outputs": [
        {
          "output_type": "execute_result",
          "data": {
            "text/plain": [
              "0.7529992209815632"
            ]
          },
          "metadata": {},
          "execution_count": 60
        }
      ]
    },
    {
      "cell_type": "code",
      "source": [
        "print(calculate_accuracy(all_y, predLabels))\n",
        "print(mean_squared_error(all_y, all_pred))"
      ],
      "metadata": {
        "colab": {
          "base_uri": "https://localhost:8080/"
        },
        "id": "P_kaIG2F3VFJ",
        "outputId": "057721c6-df42-478b-950d-d59552551812"
      },
      "id": "P_kaIG2F3VFJ",
      "execution_count": 61,
      "outputs": [
        {
          "output_type": "stream",
          "name": "stdout",
          "text": [
            "{1: 0.15044066407050624, -1: 0.14585337694823938, 0: 0.967363016107477}\n",
            "0.20946957\n"
          ]
        }
      ]
    },
    {
      "cell_type": "code",
      "source": [],
      "metadata": {
        "id": "ExIySD2F343A"
      },
      "id": "ExIySD2F343A",
      "execution_count": null,
      "outputs": []
    }
  ],
  "metadata": {
    "kernelspec": {
      "display_name": "Python 3",
      "name": "python3"
    },
    "language_info": {
      "codemirror_mode": {
        "name": "ipython",
        "version": 3
      },
      "file_extension": ".py",
      "mimetype": "text/x-python",
      "name": "python",
      "nbconvert_exporter": "python",
      "pygments_lexer": "ipython3",
      "version": "3.9.5"
    },
    "colab": {
      "provenance": [],
      "gpuType": "T4"
    },
    "accelerator": "GPU",
    "widgets": {
      "application/vnd.jupyter.widget-state+json": {
        "96d6c79af1de47778aa051d77fef038a": {
          "model_module": "@jupyter-widgets/controls",
          "model_name": "VBoxModel",
          "model_module_version": "1.5.0",
          "state": {
            "_dom_classes": [],
            "_model_module": "@jupyter-widgets/controls",
            "_model_module_version": "1.5.0",
            "_model_name": "VBoxModel",
            "_view_count": null,
            "_view_module": "@jupyter-widgets/controls",
            "_view_module_version": "1.5.0",
            "_view_name": "VBoxView",
            "box_style": "",
            "children": [
              "IPY_MODEL_081ec020d5554007a77d2d5e0dc80194",
              "IPY_MODEL_9da9f80b40c2465db48ab26a03a02028"
            ],
            "layout": "IPY_MODEL_91379a9957ac4a38b35e9f3046490a49"
          }
        },
        "081ec020d5554007a77d2d5e0dc80194": {
          "model_module": "@jupyter-widgets/controls",
          "model_name": "LabelModel",
          "model_module_version": "1.5.0",
          "state": {
            "_dom_classes": [],
            "_model_module": "@jupyter-widgets/controls",
            "_model_module_version": "1.5.0",
            "_model_name": "LabelModel",
            "_view_count": null,
            "_view_module": "@jupyter-widgets/controls",
            "_view_module_version": "1.5.0",
            "_view_name": "LabelView",
            "description": "",
            "description_tooltip": null,
            "layout": "IPY_MODEL_fd405f27612b4e8283de941a2e7bacb6",
            "placeholder": "​",
            "style": "IPY_MODEL_9c58539f1e99432eaff38b3b8d6efabc",
            "value": "0.017 MB of 0.017 MB uploaded\r"
          }
        },
        "9da9f80b40c2465db48ab26a03a02028": {
          "model_module": "@jupyter-widgets/controls",
          "model_name": "FloatProgressModel",
          "model_module_version": "1.5.0",
          "state": {
            "_dom_classes": [],
            "_model_module": "@jupyter-widgets/controls",
            "_model_module_version": "1.5.0",
            "_model_name": "FloatProgressModel",
            "_view_count": null,
            "_view_module": "@jupyter-widgets/controls",
            "_view_module_version": "1.5.0",
            "_view_name": "ProgressView",
            "bar_style": "",
            "description": "",
            "description_tooltip": null,
            "layout": "IPY_MODEL_2837f41e6cd643eea7827bfe207518a5",
            "max": 1,
            "min": 0,
            "orientation": "horizontal",
            "style": "IPY_MODEL_b599a0eea0d24077a6e3af3e8e840390",
            "value": 1
          }
        },
        "91379a9957ac4a38b35e9f3046490a49": {
          "model_module": "@jupyter-widgets/base",
          "model_name": "LayoutModel",
          "model_module_version": "1.2.0",
          "state": {
            "_model_module": "@jupyter-widgets/base",
            "_model_module_version": "1.2.0",
            "_model_name": "LayoutModel",
            "_view_count": null,
            "_view_module": "@jupyter-widgets/base",
            "_view_module_version": "1.2.0",
            "_view_name": "LayoutView",
            "align_content": null,
            "align_items": null,
            "align_self": null,
            "border": null,
            "bottom": null,
            "display": null,
            "flex": null,
            "flex_flow": null,
            "grid_area": null,
            "grid_auto_columns": null,
            "grid_auto_flow": null,
            "grid_auto_rows": null,
            "grid_column": null,
            "grid_gap": null,
            "grid_row": null,
            "grid_template_areas": null,
            "grid_template_columns": null,
            "grid_template_rows": null,
            "height": null,
            "justify_content": null,
            "justify_items": null,
            "left": null,
            "margin": null,
            "max_height": null,
            "max_width": null,
            "min_height": null,
            "min_width": null,
            "object_fit": null,
            "object_position": null,
            "order": null,
            "overflow": null,
            "overflow_x": null,
            "overflow_y": null,
            "padding": null,
            "right": null,
            "top": null,
            "visibility": null,
            "width": null
          }
        },
        "fd405f27612b4e8283de941a2e7bacb6": {
          "model_module": "@jupyter-widgets/base",
          "model_name": "LayoutModel",
          "model_module_version": "1.2.0",
          "state": {
            "_model_module": "@jupyter-widgets/base",
            "_model_module_version": "1.2.0",
            "_model_name": "LayoutModel",
            "_view_count": null,
            "_view_module": "@jupyter-widgets/base",
            "_view_module_version": "1.2.0",
            "_view_name": "LayoutView",
            "align_content": null,
            "align_items": null,
            "align_self": null,
            "border": null,
            "bottom": null,
            "display": null,
            "flex": null,
            "flex_flow": null,
            "grid_area": null,
            "grid_auto_columns": null,
            "grid_auto_flow": null,
            "grid_auto_rows": null,
            "grid_column": null,
            "grid_gap": null,
            "grid_row": null,
            "grid_template_areas": null,
            "grid_template_columns": null,
            "grid_template_rows": null,
            "height": null,
            "justify_content": null,
            "justify_items": null,
            "left": null,
            "margin": null,
            "max_height": null,
            "max_width": null,
            "min_height": null,
            "min_width": null,
            "object_fit": null,
            "object_position": null,
            "order": null,
            "overflow": null,
            "overflow_x": null,
            "overflow_y": null,
            "padding": null,
            "right": null,
            "top": null,
            "visibility": null,
            "width": null
          }
        },
        "9c58539f1e99432eaff38b3b8d6efabc": {
          "model_module": "@jupyter-widgets/controls",
          "model_name": "DescriptionStyleModel",
          "model_module_version": "1.5.0",
          "state": {
            "_model_module": "@jupyter-widgets/controls",
            "_model_module_version": "1.5.0",
            "_model_name": "DescriptionStyleModel",
            "_view_count": null,
            "_view_module": "@jupyter-widgets/base",
            "_view_module_version": "1.2.0",
            "_view_name": "StyleView",
            "description_width": ""
          }
        },
        "2837f41e6cd643eea7827bfe207518a5": {
          "model_module": "@jupyter-widgets/base",
          "model_name": "LayoutModel",
          "model_module_version": "1.2.0",
          "state": {
            "_model_module": "@jupyter-widgets/base",
            "_model_module_version": "1.2.0",
            "_model_name": "LayoutModel",
            "_view_count": null,
            "_view_module": "@jupyter-widgets/base",
            "_view_module_version": "1.2.0",
            "_view_name": "LayoutView",
            "align_content": null,
            "align_items": null,
            "align_self": null,
            "border": null,
            "bottom": null,
            "display": null,
            "flex": null,
            "flex_flow": null,
            "grid_area": null,
            "grid_auto_columns": null,
            "grid_auto_flow": null,
            "grid_auto_rows": null,
            "grid_column": null,
            "grid_gap": null,
            "grid_row": null,
            "grid_template_areas": null,
            "grid_template_columns": null,
            "grid_template_rows": null,
            "height": null,
            "justify_content": null,
            "justify_items": null,
            "left": null,
            "margin": null,
            "max_height": null,
            "max_width": null,
            "min_height": null,
            "min_width": null,
            "object_fit": null,
            "object_position": null,
            "order": null,
            "overflow": null,
            "overflow_x": null,
            "overflow_y": null,
            "padding": null,
            "right": null,
            "top": null,
            "visibility": null,
            "width": null
          }
        },
        "b599a0eea0d24077a6e3af3e8e840390": {
          "model_module": "@jupyter-widgets/controls",
          "model_name": "ProgressStyleModel",
          "model_module_version": "1.5.0",
          "state": {
            "_model_module": "@jupyter-widgets/controls",
            "_model_module_version": "1.5.0",
            "_model_name": "ProgressStyleModel",
            "_view_count": null,
            "_view_module": "@jupyter-widgets/base",
            "_view_module_version": "1.2.0",
            "_view_name": "StyleView",
            "bar_color": null,
            "description_width": ""
          }
        },
        "6dac6c77f918413da5f581b9bec744ed": {
          "model_module": "@jupyter-widgets/controls",
          "model_name": "VBoxModel",
          "model_module_version": "1.5.0",
          "state": {
            "_dom_classes": [],
            "_model_module": "@jupyter-widgets/controls",
            "_model_module_version": "1.5.0",
            "_model_name": "VBoxModel",
            "_view_count": null,
            "_view_module": "@jupyter-widgets/controls",
            "_view_module_version": "1.5.0",
            "_view_name": "VBoxView",
            "box_style": "",
            "children": [
              "IPY_MODEL_22bb77913eb44a93ac97f57cdfd8edda",
              "IPY_MODEL_c74b02237e514f6c82fa2a4db7c0763a"
            ],
            "layout": "IPY_MODEL_cd4f1b15656e499d9f63868d65026c69"
          }
        },
        "22bb77913eb44a93ac97f57cdfd8edda": {
          "model_module": "@jupyter-widgets/controls",
          "model_name": "LabelModel",
          "model_module_version": "1.5.0",
          "state": {
            "_dom_classes": [],
            "_model_module": "@jupyter-widgets/controls",
            "_model_module_version": "1.5.0",
            "_model_name": "LabelModel",
            "_view_count": null,
            "_view_module": "@jupyter-widgets/controls",
            "_view_module_version": "1.5.0",
            "_view_name": "LabelView",
            "description": "",
            "description_tooltip": null,
            "layout": "IPY_MODEL_cc8e3d5b77d24c47839e032d3fc6381d",
            "placeholder": "​",
            "style": "IPY_MODEL_d892c193dde7469caf3810a80daedfa5",
            "value": "Waiting for wandb.init()...\r"
          }
        },
        "c74b02237e514f6c82fa2a4db7c0763a": {
          "model_module": "@jupyter-widgets/controls",
          "model_name": "FloatProgressModel",
          "model_module_version": "1.5.0",
          "state": {
            "_dom_classes": [],
            "_model_module": "@jupyter-widgets/controls",
            "_model_module_version": "1.5.0",
            "_model_name": "FloatProgressModel",
            "_view_count": null,
            "_view_module": "@jupyter-widgets/controls",
            "_view_module_version": "1.5.0",
            "_view_name": "ProgressView",
            "bar_style": "",
            "description": "",
            "description_tooltip": null,
            "layout": "IPY_MODEL_99b657af3ba24ab8acd4ee145eb3eb75",
            "max": 1,
            "min": 0,
            "orientation": "horizontal",
            "style": "IPY_MODEL_d93c86685ed84324924eff712be9f846",
            "value": 1
          }
        },
        "cd4f1b15656e499d9f63868d65026c69": {
          "model_module": "@jupyter-widgets/base",
          "model_name": "LayoutModel",
          "model_module_version": "1.2.0",
          "state": {
            "_model_module": "@jupyter-widgets/base",
            "_model_module_version": "1.2.0",
            "_model_name": "LayoutModel",
            "_view_count": null,
            "_view_module": "@jupyter-widgets/base",
            "_view_module_version": "1.2.0",
            "_view_name": "LayoutView",
            "align_content": null,
            "align_items": null,
            "align_self": null,
            "border": null,
            "bottom": null,
            "display": null,
            "flex": null,
            "flex_flow": null,
            "grid_area": null,
            "grid_auto_columns": null,
            "grid_auto_flow": null,
            "grid_auto_rows": null,
            "grid_column": null,
            "grid_gap": null,
            "grid_row": null,
            "grid_template_areas": null,
            "grid_template_columns": null,
            "grid_template_rows": null,
            "height": null,
            "justify_content": null,
            "justify_items": null,
            "left": null,
            "margin": null,
            "max_height": null,
            "max_width": null,
            "min_height": null,
            "min_width": null,
            "object_fit": null,
            "object_position": null,
            "order": null,
            "overflow": null,
            "overflow_x": null,
            "overflow_y": null,
            "padding": null,
            "right": null,
            "top": null,
            "visibility": null,
            "width": null
          }
        },
        "cc8e3d5b77d24c47839e032d3fc6381d": {
          "model_module": "@jupyter-widgets/base",
          "model_name": "LayoutModel",
          "model_module_version": "1.2.0",
          "state": {
            "_model_module": "@jupyter-widgets/base",
            "_model_module_version": "1.2.0",
            "_model_name": "LayoutModel",
            "_view_count": null,
            "_view_module": "@jupyter-widgets/base",
            "_view_module_version": "1.2.0",
            "_view_name": "LayoutView",
            "align_content": null,
            "align_items": null,
            "align_self": null,
            "border": null,
            "bottom": null,
            "display": null,
            "flex": null,
            "flex_flow": null,
            "grid_area": null,
            "grid_auto_columns": null,
            "grid_auto_flow": null,
            "grid_auto_rows": null,
            "grid_column": null,
            "grid_gap": null,
            "grid_row": null,
            "grid_template_areas": null,
            "grid_template_columns": null,
            "grid_template_rows": null,
            "height": null,
            "justify_content": null,
            "justify_items": null,
            "left": null,
            "margin": null,
            "max_height": null,
            "max_width": null,
            "min_height": null,
            "min_width": null,
            "object_fit": null,
            "object_position": null,
            "order": null,
            "overflow": null,
            "overflow_x": null,
            "overflow_y": null,
            "padding": null,
            "right": null,
            "top": null,
            "visibility": null,
            "width": null
          }
        },
        "d892c193dde7469caf3810a80daedfa5": {
          "model_module": "@jupyter-widgets/controls",
          "model_name": "DescriptionStyleModel",
          "model_module_version": "1.5.0",
          "state": {
            "_model_module": "@jupyter-widgets/controls",
            "_model_module_version": "1.5.0",
            "_model_name": "DescriptionStyleModel",
            "_view_count": null,
            "_view_module": "@jupyter-widgets/base",
            "_view_module_version": "1.2.0",
            "_view_name": "StyleView",
            "description_width": ""
          }
        },
        "99b657af3ba24ab8acd4ee145eb3eb75": {
          "model_module": "@jupyter-widgets/base",
          "model_name": "LayoutModel",
          "model_module_version": "1.2.0",
          "state": {
            "_model_module": "@jupyter-widgets/base",
            "_model_module_version": "1.2.0",
            "_model_name": "LayoutModel",
            "_view_count": null,
            "_view_module": "@jupyter-widgets/base",
            "_view_module_version": "1.2.0",
            "_view_name": "LayoutView",
            "align_content": null,
            "align_items": null,
            "align_self": null,
            "border": null,
            "bottom": null,
            "display": null,
            "flex": null,
            "flex_flow": null,
            "grid_area": null,
            "grid_auto_columns": null,
            "grid_auto_flow": null,
            "grid_auto_rows": null,
            "grid_column": null,
            "grid_gap": null,
            "grid_row": null,
            "grid_template_areas": null,
            "grid_template_columns": null,
            "grid_template_rows": null,
            "height": null,
            "justify_content": null,
            "justify_items": null,
            "left": null,
            "margin": null,
            "max_height": null,
            "max_width": null,
            "min_height": null,
            "min_width": null,
            "object_fit": null,
            "object_position": null,
            "order": null,
            "overflow": null,
            "overflow_x": null,
            "overflow_y": null,
            "padding": null,
            "right": null,
            "top": null,
            "visibility": null,
            "width": null
          }
        },
        "d93c86685ed84324924eff712be9f846": {
          "model_module": "@jupyter-widgets/controls",
          "model_name": "ProgressStyleModel",
          "model_module_version": "1.5.0",
          "state": {
            "_model_module": "@jupyter-widgets/controls",
            "_model_module_version": "1.5.0",
            "_model_name": "ProgressStyleModel",
            "_view_count": null,
            "_view_module": "@jupyter-widgets/base",
            "_view_module_version": "1.2.0",
            "_view_name": "StyleView",
            "bar_color": null,
            "description_width": ""
          }
        }
      }
    }
  },
  "nbformat": 4,
  "nbformat_minor": 5
}